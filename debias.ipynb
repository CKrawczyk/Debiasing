{
 "cells": [
  {
   "cell_type": "code",
   "execution_count": 1,
   "metadata": {
    "collapsed": true
   },
   "outputs": [],
   "source": [
    "import os\n",
    "from astropy.table import Table\n",
    "import time\n",
    "import dictionaries\n",
    "import params\n",
    "import debias\n",
    "\n",
    "data = Table.read(params.data_file)\n",
    "output_directory = params.output_directory\n",
    "\n",
    "if not os.path.isdir(output_directory):\n",
    "    os.mkdir(output_directory)"
   ]
  },
  {
   "cell_type": "code",
   "execution_count": 2,
   "metadata": {},
   "outputs": [
    {
     "name": "stdout",
     "output_type": "stream",
     "text": [
      "---------------------------------------------\n",
      "Q: t01_smooth_or_features\n",
      "A: a01_smooth\n",
      "---------------------------------------------\n"
     ]
    },
    {
     "name": "stderr",
     "output_type": "stream",
     "text": [
      "/Users/coleman/Desktop/zooniverse/Debiasing/sample.py:16: RuntimeWarning: divide by zero encountered in log10\n",
      "  full_data['logR50'] = np.log10(full_data[params.R50_column])\n"
     ]
    },
    {
     "name": "stdout",
     "output_type": "stream",
     "text": [
      "Primary question, so all 297590 galaxies used.\n",
      "Bin-accretion...\n",
      "99  initial bins.\n",
      "Reassign bad bins...\n",
      "26  good bins.\n",
      "Modified Lloyd algorithm...\n",
      "24  iterations.\n",
      "Unbinned pixels:  0  /  11559\n",
      "Fractional S/N scatter (%): 14.4543781663\n",
      "------------------\n",
      "chisq (log) = 1818.5\n",
      "chisq (exp) = 1282.2\n",
      "------------------\n",
      "=> exp function preferred\n"
     ]
    },
    {
     "name": "stderr",
     "output_type": "stream",
     "text": [
      "/Users/coleman/Desktop/zooniverse/Debiasing/fit.py:98: RuntimeWarning: invalid value encountered in log10\n",
      "  term = constant*np.log10(var)\n",
      "/Users/coleman/anaconda/envs/python3/lib/python3.5/site-packages/scipy/optimize/minpack.py:785: OptimizeWarning: Covariance of the parameters could not be estimated\n",
      "  category=OptimizeWarning)\n"
     ]
    },
    {
     "name": "stdout",
     "output_type": "stream",
     "text": [
      "--- Selected function (k): ---\n",
      "exp(M),exp(R),exp(z)\n",
      "--- Selected function (c): ---\n",
      "linear(M),linear(R),linear(z)\n",
      "fit method preferred\n",
      "---------\n",
      "chi2 (bin) = 0.2\n",
      "chi2 (fit) = 0.03\n",
      "---------\n",
      "---------------------------------------------\n",
      "Q: t01_smooth_or_features\n",
      "A: a02_features_or_disk\n",
      "---------------------------------------------\n"
     ]
    },
    {
     "name": "stderr",
     "output_type": "stream",
     "text": [
      "/Users/coleman/Desktop/zooniverse/Debiasing/sample.py:16: RuntimeWarning: divide by zero encountered in log10\n",
      "  full_data['logR50'] = np.log10(full_data[params.R50_column])\n"
     ]
    },
    {
     "name": "stdout",
     "output_type": "stream",
     "text": [
      "Primary question, so all 297590 galaxies used.\n",
      "Bin-accretion...\n",
      "99  initial bins.\n",
      "Reassign bad bins...\n",
      "26  good bins.\n",
      "Modified Lloyd algorithm...\n",
      "24  iterations.\n",
      "Unbinned pixels:  0  /  11559\n",
      "Fractional S/N scatter (%): 14.4543781663\n",
      "------------------\n",
      "chisq (log) = 972.8\n",
      "chisq (exp) = 600.9\n",
      "------------------\n",
      "=> exp function preferred\n"
     ]
    },
    {
     "name": "stderr",
     "output_type": "stream",
     "text": [
      "/Users/coleman/Desktop/zooniverse/Debiasing/fit.py:98: RuntimeWarning: invalid value encountered in log10\n",
      "  term = constant*np.log10(var)\n",
      "/Users/coleman/anaconda/envs/python3/lib/python3.5/site-packages/scipy/optimize/minpack.py:785: OptimizeWarning: Covariance of the parameters could not be estimated\n",
      "  category=OptimizeWarning)\n"
     ]
    },
    {
     "name": "stdout",
     "output_type": "stream",
     "text": [
      "--- Selected function (k): ---\n",
      "linear(M),linear(R),linear(z)\n",
      "--- Selected function (c): ---\n",
      "exp(M),exp(R),exp(z)\n",
      "fit method preferred\n",
      "---------\n",
      "chi2 (bin) = 0.12\n",
      "chi2 (fit) = 0.04\n",
      "---------\n",
      "---------------------------------------------\n",
      "Q: t01_smooth_or_features\n",
      "A: a03_star_or_artifact\n",
      "---------------------------------------------\n"
     ]
    },
    {
     "name": "stderr",
     "output_type": "stream",
     "text": [
      "/Users/coleman/Desktop/zooniverse/Debiasing/sample.py:16: RuntimeWarning: divide by zero encountered in log10\n",
      "  full_data['logR50'] = np.log10(full_data[params.R50_column])\n"
     ]
    },
    {
     "name": "stdout",
     "output_type": "stream",
     "text": [
      "Primary question, so all 297590 galaxies used.\n",
      "Bin-accretion...\n",
      "99  initial bins.\n",
      "Reassign bad bins...\n",
      "26  good bins.\n",
      "Modified Lloyd algorithm...\n",
      "24  iterations.\n",
      "Unbinned pixels:  0  /  11559\n",
      "Fractional S/N scatter (%): 14.4543781663\n",
      "------------------\n",
      "chisq (log) = 105.2\n",
      "chisq (exp) = 78.7\n",
      "------------------\n",
      "=> exp function preferred\n"
     ]
    },
    {
     "name": "stderr",
     "output_type": "stream",
     "text": [
      "/Users/coleman/Desktop/zooniverse/Debiasing/fit.py:98: RuntimeWarning: invalid value encountered in log10\n",
      "  term = constant*np.log10(var)\n"
     ]
    },
    {
     "name": "stdout",
     "output_type": "stream",
     "text": [
      "--- Selected function (k): ---\n",
      "linear(M),linear(R),linear(z)\n",
      "--- Selected function (c): ---\n",
      "linear(M),linear(R),linear(z)\n",
      "fit method preferred\n",
      "---------\n",
      "chi2 (bin) = 0.27\n",
      "chi2 (fit) = 0.02\n",
      "---------\n",
      "time to run: 0.8140535869201024 hours\n"
     ]
    }
   ],
   "source": [
    "t_start = time.time()\n",
    "for q in dictionaries.questions.keys():\n",
    "    answers = dictionaries.questions[q]['answers']\n",
    "    for a in answers:\n",
    "        print('---------------------------------------------')\n",
    "        print('Q: {}'.format(q))\n",
    "        print('A: {}'.format(a))\n",
    "        print('---------------------------------------------')\n",
    "        data = debias.debias(data, params=params, dictionaries=dictionaries ,question=q, answer=a, verbose=True)\n",
    "    break\n",
    "\n",
    "data.write(os.path.join(output_directory, 'nsa_debiased_frist_question_only.csv'), overwrite=True)\n",
    "t_end = time.time()\n",
    "print('time to run: {0} hours'.format((t_end - t_start) / 3600 ))"
   ]
  },
  {
   "cell_type": "code",
   "execution_count": null,
   "metadata": {
    "collapsed": true
   },
   "outputs": [],
   "source": []
  }
 ],
 "metadata": {
  "kernelspec": {
   "display_name": "Python 3",
   "language": "python",
   "name": "python3"
  },
  "language_info": {
   "codemirror_mode": {
    "name": "ipython",
    "version": 3
   },
   "file_extension": ".py",
   "mimetype": "text/x-python",
   "name": "python",
   "nbconvert_exporter": "python",
   "pygments_lexer": "ipython3",
   "version": "3.5.2"
  }
 },
 "nbformat": 4,
 "nbformat_minor": 1
}
