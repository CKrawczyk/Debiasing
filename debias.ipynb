{
 "cells": [
  {
   "cell_type": "code",
   "execution_count": 1,
   "metadata": {
    "collapsed": true
   },
   "outputs": [],
   "source": [
    "import os\n",
    "from astropy.table import Table\n",
    "import time\n",
    "import dictionaries\n",
    "import params\n",
    "import debias\n",
    "\n",
    "data = Table.read(params.data_file)\n",
    "output_directory = params.output_directory\n",
    "\n",
    "if not os.path.isdir(output_directory):\n",
    "    os.mkdir(output_directory)"
   ]
  },
  {
   "cell_type": "code",
   "execution_count": 2,
   "metadata": {
    "scrolled": false
   },
   "outputs": [
    {
     "name": "stdout",
     "output_type": "stream",
     "text": [
      "---------------------------------------------\n",
      "Q: t01_smooth_or_features\n",
      "A: a01_smooth\n",
      "---------------------------------------------\n"
     ]
    },
    {
     "name": "stderr",
     "output_type": "stream",
     "text": [
      "/Users/coleman/Desktop/zooniverse/Debiasing/sample.py:16: RuntimeWarning: divide by zero encountered in log10\n",
      "  full_data['logR50'] = np.log10(full_data[params.R50_column])\n",
      "/Users/coleman/Desktop/zooniverse/Debiasing/sample.py:16: RuntimeWarning: invalid value encountered in log10\n",
      "  full_data['logR50'] = np.log10(full_data[params.R50_column])\n"
     ]
    },
    {
     "name": "stdout",
     "output_type": "stream",
     "text": [
      "Primary question, so all 297516 galaxies used.\n",
      "Bin-accretion...\n",
      "227  initial bins.\n",
      "Reassign bad bins...\n",
      "26  good bins.\n",
      "Modified Lloyd algorithm...\n",
      "24  iterations.\n",
      "Unbinned pixels:  0  /  6687\n",
      "Fractional S/N scatter (%): 14.8649008145\n",
      "time for answer: 1.8686495820681255 mins\n",
      "---------------------------------------------\n",
      "Q: t01_smooth_or_features\n",
      "A: a02_features_or_disk\n",
      "---------------------------------------------\n"
     ]
    },
    {
     "name": "stderr",
     "output_type": "stream",
     "text": [
      "/Users/coleman/Desktop/zooniverse/Debiasing/sample.py:16: RuntimeWarning: divide by zero encountered in log10\n",
      "  full_data['logR50'] = np.log10(full_data[params.R50_column])\n",
      "/Users/coleman/Desktop/zooniverse/Debiasing/sample.py:16: RuntimeWarning: invalid value encountered in log10\n",
      "  full_data['logR50'] = np.log10(full_data[params.R50_column])\n"
     ]
    },
    {
     "name": "stdout",
     "output_type": "stream",
     "text": [
      "Primary question, so all 297516 galaxies used.\n",
      "Bin-accretion...\n",
      "227  initial bins.\n",
      "Reassign bad bins...\n",
      "26  good bins.\n",
      "Modified Lloyd algorithm...\n",
      "24  iterations.\n",
      "Unbinned pixels:  0  /  6687\n",
      "Fractional S/N scatter (%): 14.8649008145\n",
      "time for answer: 1.9605974674224853 mins\n",
      "---------------------------------------------\n",
      "Q: t01_smooth_or_features\n",
      "A: a03_star_or_artifact\n",
      "---------------------------------------------\n"
     ]
    },
    {
     "name": "stderr",
     "output_type": "stream",
     "text": [
      "/Users/coleman/Desktop/zooniverse/Debiasing/sample.py:16: RuntimeWarning: divide by zero encountered in log10\n",
      "  full_data['logR50'] = np.log10(full_data[params.R50_column])\n",
      "/Users/coleman/Desktop/zooniverse/Debiasing/sample.py:16: RuntimeWarning: invalid value encountered in log10\n",
      "  full_data['logR50'] = np.log10(full_data[params.R50_column])\n"
     ]
    },
    {
     "name": "stdout",
     "output_type": "stream",
     "text": [
      "Primary question, so all 297516 galaxies used.\n",
      "Bin-accretion...\n",
      "227  initial bins.\n",
      "Reassign bad bins...\n",
      "26  good bins.\n",
      "Modified Lloyd algorithm...\n",
      "24  iterations.\n",
      "Unbinned pixels:  0  /  6687\n",
      "Fractional S/N scatter (%): 14.8649008145\n",
      "time for answer: 1.4551849643389383 mins\n",
      "=============\n",
      "time for question: 5.284438049793243 mins\n",
      "=============\n",
      "---------------------------------------------\n",
      "Q: t02_edgeon\n",
      "A: a04_yes\n",
      "---------------------------------------------\n"
     ]
    },
    {
     "name": "stderr",
     "output_type": "stream",
     "text": [
      "/Users/coleman/Desktop/zooniverse/Debiasing/sample.py:16: RuntimeWarning: divide by zero encountered in log10\n",
      "  full_data['logR50'] = np.log10(full_data[params.R50_column])\n",
      "/Users/coleman/Desktop/zooniverse/Debiasing/sample.py:16: RuntimeWarning: invalid value encountered in log10\n",
      "  full_data['logR50'] = np.log10(full_data[params.R50_column])\n"
     ]
    },
    {
     "name": "stdout",
     "output_type": "stream",
     "text": [
      "204774/297516 galaxies with p>0.5 and N>=5.\n",
      "Bin-accretion...\n",
      "42  initial bins.\n",
      "Reassign bad bins...\n",
      "28  good bins.\n",
      "Modified Lloyd algorithm...\n",
      "26  iterations.\n",
      "Unbinned pixels:  0  /  3955\n",
      "Fractional S/N scatter (%): 13.5523383885\n",
      "time for answer: 1.1817925691604614 mins\n",
      "---------------------------------------------\n",
      "Q: t02_edgeon\n",
      "A: a05_no\n",
      "---------------------------------------------\n"
     ]
    },
    {
     "name": "stderr",
     "output_type": "stream",
     "text": [
      "/Users/coleman/Desktop/zooniverse/Debiasing/sample.py:16: RuntimeWarning: divide by zero encountered in log10\n",
      "  full_data['logR50'] = np.log10(full_data[params.R50_column])\n",
      "/Users/coleman/Desktop/zooniverse/Debiasing/sample.py:16: RuntimeWarning: invalid value encountered in log10\n",
      "  full_data['logR50'] = np.log10(full_data[params.R50_column])\n"
     ]
    },
    {
     "name": "stdout",
     "output_type": "stream",
     "text": [
      "204774/297516 galaxies with p>0.5 and N>=5.\n",
      "Bin-accretion...\n",
      "42  initial bins.\n",
      "Reassign bad bins...\n",
      "28  good bins.\n",
      "Modified Lloyd algorithm...\n",
      "26  iterations.\n",
      "Unbinned pixels:  0  /  3955\n",
      "Fractional S/N scatter (%): 13.5523383885\n",
      "time for answer: 1.3592557668685914 mins\n",
      "=============\n",
      "time for question: 2.541055663426717 mins\n",
      "=============\n",
      "---------------------------------------------\n",
      "Q: t03_bar\n",
      "A: a06_bar\n",
      "---------------------------------------------\n"
     ]
    },
    {
     "name": "stderr",
     "output_type": "stream",
     "text": [
      "/Users/coleman/Desktop/zooniverse/Debiasing/sample.py:16: RuntimeWarning: divide by zero encountered in log10\n",
      "  full_data['logR50'] = np.log10(full_data[params.R50_column])\n",
      "/Users/coleman/Desktop/zooniverse/Debiasing/sample.py:16: RuntimeWarning: invalid value encountered in log10\n",
      "  full_data['logR50'] = np.log10(full_data[params.R50_column])\n"
     ]
    },
    {
     "name": "stdout",
     "output_type": "stream",
     "text": [
      "156191/297516 galaxies with p>0.5 and N>=5.\n",
      "Bin-accretion...\n",
      "71  initial bins.\n",
      "Reassign bad bins...\n",
      "28  good bins.\n",
      "Modified Lloyd algorithm...\n",
      "26  iterations.\n",
      "Unbinned pixels:  0  /  2827\n",
      "Fractional S/N scatter (%): 17.2050714216\n",
      "time for answer: 1.2412206649780273 mins\n",
      "---------------------------------------------\n",
      "Q: t03_bar\n",
      "A: a07_no_bar\n",
      "---------------------------------------------\n"
     ]
    },
    {
     "name": "stderr",
     "output_type": "stream",
     "text": [
      "/Users/coleman/Desktop/zooniverse/Debiasing/sample.py:16: RuntimeWarning: divide by zero encountered in log10\n",
      "  full_data['logR50'] = np.log10(full_data[params.R50_column])\n",
      "/Users/coleman/Desktop/zooniverse/Debiasing/sample.py:16: RuntimeWarning: invalid value encountered in log10\n",
      "  full_data['logR50'] = np.log10(full_data[params.R50_column])\n"
     ]
    },
    {
     "name": "stdout",
     "output_type": "stream",
     "text": [
      "156191/297516 galaxies with p>0.5 and N>=5.\n",
      "Bin-accretion...\n",
      "71  initial bins.\n",
      "Reassign bad bins...\n",
      "28  good bins.\n",
      "Modified Lloyd algorithm...\n",
      "26  iterations.\n",
      "Unbinned pixels:  0  /  2827\n",
      "Fractional S/N scatter (%): 17.2050714216\n",
      "time for answer: 1.8562246163686116 mins\n",
      "=============\n",
      "time for question: 3.0974558353424073 mins\n",
      "=============\n",
      "---------------------------------------------\n",
      "Q: t04_spiral\n",
      "A: a08_spiral\n",
      "---------------------------------------------\n"
     ]
    },
    {
     "name": "stderr",
     "output_type": "stream",
     "text": [
      "/Users/coleman/Desktop/zooniverse/Debiasing/sample.py:16: RuntimeWarning: divide by zero encountered in log10\n",
      "  full_data['logR50'] = np.log10(full_data[params.R50_column])\n",
      "/Users/coleman/Desktop/zooniverse/Debiasing/sample.py:16: RuntimeWarning: invalid value encountered in log10\n",
      "  full_data['logR50'] = np.log10(full_data[params.R50_column])\n"
     ]
    },
    {
     "name": "stdout",
     "output_type": "stream",
     "text": [
      "156210/297516 galaxies with p>0.5 and N>=5.\n",
      "Bin-accretion...\n",
      "71  initial bins.\n",
      "Reassign bad bins...\n",
      "28  good bins.\n",
      "Modified Lloyd algorithm...\n",
      "26  iterations.\n",
      "Unbinned pixels:  0  /  2827\n",
      "Fractional S/N scatter (%): 17.2026841496\n",
      "time for answer: 1.899383783340454 mins\n",
      "---------------------------------------------\n",
      "Q: t04_spiral\n",
      "A: a09_no_spiral\n",
      "---------------------------------------------\n"
     ]
    },
    {
     "name": "stderr",
     "output_type": "stream",
     "text": [
      "/Users/coleman/Desktop/zooniverse/Debiasing/sample.py:16: RuntimeWarning: divide by zero encountered in log10\n",
      "  full_data['logR50'] = np.log10(full_data[params.R50_column])\n",
      "/Users/coleman/Desktop/zooniverse/Debiasing/sample.py:16: RuntimeWarning: invalid value encountered in log10\n",
      "  full_data['logR50'] = np.log10(full_data[params.R50_column])\n"
     ]
    },
    {
     "name": "stdout",
     "output_type": "stream",
     "text": [
      "156210/297516 galaxies with p>0.5 and N>=5.\n",
      "Bin-accretion...\n",
      "71  initial bins.\n",
      "Reassign bad bins...\n",
      "28  good bins.\n",
      "Modified Lloyd algorithm...\n",
      "26  iterations.\n",
      "Unbinned pixels:  0  /  2827\n",
      "Fractional S/N scatter (%): 17.2026841496\n",
      "time for answer: 1.5703946868578593 mins\n",
      "=============\n",
      "time for question: 3.4697877685228984 mins\n",
      "=============\n",
      "---------------------------------------------\n",
      "Q: t05_bulge_prominence\n",
      "A: a10_no_bulge\n",
      "---------------------------------------------\n"
     ]
    },
    {
     "name": "stderr",
     "output_type": "stream",
     "text": [
      "/Users/coleman/Desktop/zooniverse/Debiasing/sample.py:16: RuntimeWarning: divide by zero encountered in log10\n",
      "  full_data['logR50'] = np.log10(full_data[params.R50_column])\n",
      "/Users/coleman/Desktop/zooniverse/Debiasing/sample.py:16: RuntimeWarning: invalid value encountered in log10\n",
      "  full_data['logR50'] = np.log10(full_data[params.R50_column])\n"
     ]
    },
    {
     "name": "stdout",
     "output_type": "stream",
     "text": [
      "156188/297516 galaxies with p>0.5 and N>=5.\n",
      "Bin-accretion...\n",
      "71  initial bins.\n",
      "Reassign bad bins...\n",
      "28  good bins.\n",
      "Modified Lloyd algorithm...\n",
      "26  iterations.\n",
      "Unbinned pixels:  0  /  2827\n",
      "Fractional S/N scatter (%): 17.2016014627\n",
      "time for answer: 1.0413646340370177 mins\n",
      "---------------------------------------------\n",
      "Q: t05_bulge_prominence\n",
      "A: a11_just_noticeable\n",
      "---------------------------------------------\n"
     ]
    },
    {
     "name": "stderr",
     "output_type": "stream",
     "text": [
      "/Users/coleman/Desktop/zooniverse/Debiasing/sample.py:16: RuntimeWarning: divide by zero encountered in log10\n",
      "  full_data['logR50'] = np.log10(full_data[params.R50_column])\n",
      "/Users/coleman/Desktop/zooniverse/Debiasing/sample.py:16: RuntimeWarning: invalid value encountered in log10\n",
      "  full_data['logR50'] = np.log10(full_data[params.R50_column])\n"
     ]
    },
    {
     "name": "stdout",
     "output_type": "stream",
     "text": [
      "156188/297516 galaxies with p>0.5 and N>=5.\n",
      "Bin-accretion...\n",
      "71  initial bins.\n",
      "Reassign bad bins...\n",
      "28  good bins.\n",
      "Modified Lloyd algorithm...\n",
      "26  iterations.\n",
      "Unbinned pixels:  0  /  2827\n",
      "Fractional S/N scatter (%): 17.2016014627\n",
      "time for answer: 1.2174577156702677 mins\n",
      "---------------------------------------------\n",
      "Q: t05_bulge_prominence\n",
      "A: a12_obvious\n",
      "---------------------------------------------\n"
     ]
    },
    {
     "name": "stderr",
     "output_type": "stream",
     "text": [
      "/Users/coleman/Desktop/zooniverse/Debiasing/sample.py:16: RuntimeWarning: divide by zero encountered in log10\n",
      "  full_data['logR50'] = np.log10(full_data[params.R50_column])\n",
      "/Users/coleman/Desktop/zooniverse/Debiasing/sample.py:16: RuntimeWarning: invalid value encountered in log10\n",
      "  full_data['logR50'] = np.log10(full_data[params.R50_column])\n"
     ]
    },
    {
     "name": "stdout",
     "output_type": "stream",
     "text": [
      "156188/297516 galaxies with p>0.5 and N>=5.\n",
      "Bin-accretion...\n",
      "71  initial bins.\n",
      "Reassign bad bins...\n",
      "28  good bins.\n",
      "Modified Lloyd algorithm...\n",
      "26  iterations.\n",
      "Unbinned pixels:  0  /  2827\n",
      "Fractional S/N scatter (%): 17.2016014627\n",
      "time for answer: 1.1572225491205852 mins\n",
      "---------------------------------------------\n",
      "Q: t05_bulge_prominence\n",
      "A: a13_dominant\n",
      "---------------------------------------------\n"
     ]
    },
    {
     "name": "stderr",
     "output_type": "stream",
     "text": [
      "/Users/coleman/Desktop/zooniverse/Debiasing/sample.py:16: RuntimeWarning: divide by zero encountered in log10\n",
      "  full_data['logR50'] = np.log10(full_data[params.R50_column])\n",
      "/Users/coleman/Desktop/zooniverse/Debiasing/sample.py:16: RuntimeWarning: invalid value encountered in log10\n",
      "  full_data['logR50'] = np.log10(full_data[params.R50_column])\n"
     ]
    },
    {
     "name": "stdout",
     "output_type": "stream",
     "text": [
      "156188/297516 galaxies with p>0.5 and N>=5.\n",
      "Bin-accretion...\n",
      "71  initial bins.\n",
      "Reassign bad bins...\n",
      "28  good bins.\n",
      "Modified Lloyd algorithm...\n",
      "26  iterations.\n",
      "Unbinned pixels:  0  /  2827\n",
      "Fractional S/N scatter (%): 17.2016014627\n",
      "time for answer: 1.0316385507583619 mins\n",
      "=============\n",
      "time for question: 4.447696101665497 mins\n",
      "=============\n",
      "---------------------------------------------\n",
      "Q: t06_odd\n",
      "A: a14_yes\n",
      "---------------------------------------------\n"
     ]
    },
    {
     "name": "stderr",
     "output_type": "stream",
     "text": [
      "/Users/coleman/Desktop/zooniverse/Debiasing/sample.py:16: RuntimeWarning: divide by zero encountered in log10\n",
      "  full_data['logR50'] = np.log10(full_data[params.R50_column])\n",
      "/Users/coleman/Desktop/zooniverse/Debiasing/sample.py:16: RuntimeWarning: invalid value encountered in log10\n",
      "  full_data['logR50'] = np.log10(full_data[params.R50_column])\n"
     ]
    },
    {
     "name": "stdout",
     "output_type": "stream",
     "text": [
      "Primary question, so all 297516 galaxies used.\n",
      "Bin-accretion...\n",
      "227  initial bins.\n",
      "Reassign bad bins...\n",
      "26  good bins.\n",
      "Modified Lloyd algorithm...\n",
      "24  iterations.\n",
      "Unbinned pixels:  0  /  6687\n",
      "Fractional S/N scatter (%): 14.8649008145\n",
      "time for answer: 1.5780674338340759 mins\n",
      "---------------------------------------------\n",
      "Q: t06_odd\n",
      "A: a15_no\n",
      "---------------------------------------------\n"
     ]
    },
    {
     "name": "stderr",
     "output_type": "stream",
     "text": [
      "/Users/coleman/Desktop/zooniverse/Debiasing/sample.py:16: RuntimeWarning: divide by zero encountered in log10\n",
      "  full_data['logR50'] = np.log10(full_data[params.R50_column])\n",
      "/Users/coleman/Desktop/zooniverse/Debiasing/sample.py:16: RuntimeWarning: invalid value encountered in log10\n",
      "  full_data['logR50'] = np.log10(full_data[params.R50_column])\n"
     ]
    },
    {
     "name": "stdout",
     "output_type": "stream",
     "text": [
      "Primary question, so all 297516 galaxies used.\n",
      "Bin-accretion...\n",
      "227  initial bins.\n",
      "Reassign bad bins...\n",
      "26  good bins.\n",
      "Modified Lloyd algorithm...\n",
      "24  iterations.\n",
      "Unbinned pixels:  0  /  6687\n",
      "Fractional S/N scatter (%): 14.8649008145\n",
      "time for answer: 1.6068997859954834 mins\n",
      "=============\n",
      "time for question: 3.184971801439921 mins\n",
      "=============\n",
      "---------------------------------------------\n",
      "Q: t07_rounded\n",
      "A: a16_completely_round\n",
      "---------------------------------------------\n"
     ]
    },
    {
     "name": "stderr",
     "output_type": "stream",
     "text": [
      "/Users/coleman/Desktop/zooniverse/Debiasing/sample.py:16: RuntimeWarning: divide by zero encountered in log10\n",
      "  full_data['logR50'] = np.log10(full_data[params.R50_column])\n",
      "/Users/coleman/Desktop/zooniverse/Debiasing/sample.py:16: RuntimeWarning: invalid value encountered in log10\n",
      "  full_data['logR50'] = np.log10(full_data[params.R50_column])\n"
     ]
    },
    {
     "name": "stdout",
     "output_type": "stream",
     "text": [
      "60665/297516 galaxies with p>0.5 and N>=5.\n",
      "Bin-accretion...\n",
      "126  initial bins.\n",
      "Reassign bad bins...\n",
      "28  good bins.\n",
      "Modified Lloyd algorithm...\n",
      "21  iterations.\n",
      "Unbinned pixels:  0  /  1815\n",
      "Fractional S/N scatter (%): 16.0021547302\n",
      "time for answer: 1.118796451886495 mins\n",
      "---------------------------------------------\n",
      "Q: t07_rounded\n",
      "A: a17_in_between\n",
      "---------------------------------------------\n"
     ]
    },
    {
     "name": "stderr",
     "output_type": "stream",
     "text": [
      "/Users/coleman/Desktop/zooniverse/Debiasing/sample.py:16: RuntimeWarning: divide by zero encountered in log10\n",
      "  full_data['logR50'] = np.log10(full_data[params.R50_column])\n",
      "/Users/coleman/Desktop/zooniverse/Debiasing/sample.py:16: RuntimeWarning: invalid value encountered in log10\n",
      "  full_data['logR50'] = np.log10(full_data[params.R50_column])\n"
     ]
    },
    {
     "name": "stdout",
     "output_type": "stream",
     "text": [
      "60665/297516 galaxies with p>0.5 and N>=5.\n",
      "Bin-accretion...\n",
      "126  initial bins.\n",
      "Reassign bad bins...\n",
      "28  good bins.\n",
      "Modified Lloyd algorithm...\n",
      "21  iterations.\n",
      "Unbinned pixels:  0  /  1815\n",
      "Fractional S/N scatter (%): 16.0021547302\n",
      "time for answer: 1.211964730421702 mins\n",
      "---------------------------------------------\n",
      "Q: t07_rounded\n",
      "A: a18_cigar_shaped\n",
      "---------------------------------------------\n"
     ]
    },
    {
     "name": "stderr",
     "output_type": "stream",
     "text": [
      "/Users/coleman/Desktop/zooniverse/Debiasing/sample.py:16: RuntimeWarning: divide by zero encountered in log10\n",
      "  full_data['logR50'] = np.log10(full_data[params.R50_column])\n",
      "/Users/coleman/Desktop/zooniverse/Debiasing/sample.py:16: RuntimeWarning: invalid value encountered in log10\n",
      "  full_data['logR50'] = np.log10(full_data[params.R50_column])\n"
     ]
    },
    {
     "name": "stdout",
     "output_type": "stream",
     "text": [
      "60665/297516 galaxies with p>0.5 and N>=5.\n",
      "Bin-accretion...\n",
      "126  initial bins.\n",
      "Reassign bad bins...\n",
      "28  good bins.\n",
      "Modified Lloyd algorithm...\n",
      "21  iterations.\n",
      "Unbinned pixels:  0  /  1815\n",
      "Fractional S/N scatter (%): 16.0021547302\n",
      "time for answer: 0.8874339699745178 mins\n",
      "=============\n",
      "time for question: 3.218200918038686 mins\n",
      "=============\n",
      "---------------------------------------------\n",
      "Q: t09_bulge_shape\n",
      "A: a25_rounded\n",
      "---------------------------------------------\n"
     ]
    },
    {
     "name": "stderr",
     "output_type": "stream",
     "text": [
      "/Users/coleman/Desktop/zooniverse/Debiasing/sample.py:16: RuntimeWarning: divide by zero encountered in log10\n",
      "  full_data['logR50'] = np.log10(full_data[params.R50_column])\n",
      "/Users/coleman/Desktop/zooniverse/Debiasing/sample.py:16: RuntimeWarning: invalid value encountered in log10\n",
      "  full_data['logR50'] = np.log10(full_data[params.R50_column])\n"
     ]
    },
    {
     "name": "stdout",
     "output_type": "stream",
     "text": [
      "25281/297516 galaxies with p>0.5 and N>=5.\n",
      "Bin-accretion...\n",
      "46  initial bins.\n",
      "Reassign bad bins...\n",
      "28  good bins.\n",
      "Modified Lloyd algorithm...\n",
      "18  iterations.\n",
      "Unbinned pixels:  0  /  1060\n",
      "Fractional S/N scatter (%): 23.497842244\n",
      "time for answer: 0.7930351495742798 mins\n",
      "---------------------------------------------\n",
      "Q: t09_bulge_shape\n",
      "A: a26_boxy\n",
      "---------------------------------------------\n"
     ]
    },
    {
     "name": "stderr",
     "output_type": "stream",
     "text": [
      "/Users/coleman/Desktop/zooniverse/Debiasing/sample.py:16: RuntimeWarning: divide by zero encountered in log10\n",
      "  full_data['logR50'] = np.log10(full_data[params.R50_column])\n",
      "/Users/coleman/Desktop/zooniverse/Debiasing/sample.py:16: RuntimeWarning: invalid value encountered in log10\n",
      "  full_data['logR50'] = np.log10(full_data[params.R50_column])\n"
     ]
    },
    {
     "name": "stdout",
     "output_type": "stream",
     "text": [
      "25281/297516 galaxies with p>0.5 and N>=5.\n",
      "Bin-accretion...\n",
      "46  initial bins.\n",
      "Reassign bad bins...\n",
      "28  good bins.\n",
      "Modified Lloyd algorithm...\n",
      "18  iterations.\n",
      "Unbinned pixels:  0  /  1060\n",
      "Fractional S/N scatter (%): 23.497842244\n",
      "time for answer: 0.7543716828028361 mins\n",
      "---------------------------------------------\n",
      "Q: t09_bulge_shape\n",
      "A: a27_no_bulge\n",
      "---------------------------------------------\n"
     ]
    },
    {
     "name": "stderr",
     "output_type": "stream",
     "text": [
      "/Users/coleman/Desktop/zooniverse/Debiasing/sample.py:16: RuntimeWarning: divide by zero encountered in log10\n",
      "  full_data['logR50'] = np.log10(full_data[params.R50_column])\n",
      "/Users/coleman/Desktop/zooniverse/Debiasing/sample.py:16: RuntimeWarning: invalid value encountered in log10\n",
      "  full_data['logR50'] = np.log10(full_data[params.R50_column])\n"
     ]
    },
    {
     "name": "stdout",
     "output_type": "stream",
     "text": [
      "25281/297516 galaxies with p>0.5 and N>=5.\n",
      "Bin-accretion...\n",
      "46  initial bins.\n",
      "Reassign bad bins...\n",
      "28  good bins.\n",
      "Modified Lloyd algorithm...\n",
      "18  iterations.\n",
      "Unbinned pixels:  0  /  1060\n",
      "Fractional S/N scatter (%): 23.497842244\n",
      "time for answer: 0.8015014171600342 mins\n",
      "=============\n",
      "time for question: 2.3489156484603884 mins\n",
      "=============\n",
      "---------------------------------------------\n",
      "Q: t10_arms_winding\n",
      "A: a28_tight\n",
      "---------------------------------------------\n"
     ]
    },
    {
     "name": "stderr",
     "output_type": "stream",
     "text": [
      "/Users/coleman/Desktop/zooniverse/Debiasing/sample.py:16: RuntimeWarning: divide by zero encountered in log10\n",
      "  full_data['logR50'] = np.log10(full_data[params.R50_column])\n",
      "/Users/coleman/Desktop/zooniverse/Debiasing/sample.py:16: RuntimeWarning: invalid value encountered in log10\n",
      "  full_data['logR50'] = np.log10(full_data[params.R50_column])\n"
     ]
    },
    {
     "name": "stdout",
     "output_type": "stream",
     "text": [
      "85332/297516 galaxies with p>0.5 and N>=5.\n",
      "Bin-accretion...\n",
      "49  initial bins.\n",
      "Reassign bad bins...\n",
      "29  good bins.\n",
      "Modified Lloyd algorithm...\n",
      "26  iterations.\n",
      "Unbinned pixels:  0  /  1442\n",
      "Fractional S/N scatter (%): 17.5184594386\n",
      "time for answer: 0.9357791026433309 mins\n",
      "---------------------------------------------\n",
      "Q: t10_arms_winding\n",
      "A: a29_medium\n",
      "---------------------------------------------\n"
     ]
    },
    {
     "name": "stderr",
     "output_type": "stream",
     "text": [
      "/Users/coleman/Desktop/zooniverse/Debiasing/sample.py:16: RuntimeWarning: divide by zero encountered in log10\n",
      "  full_data['logR50'] = np.log10(full_data[params.R50_column])\n",
      "/Users/coleman/Desktop/zooniverse/Debiasing/sample.py:16: RuntimeWarning: invalid value encountered in log10\n",
      "  full_data['logR50'] = np.log10(full_data[params.R50_column])\n"
     ]
    },
    {
     "name": "stdout",
     "output_type": "stream",
     "text": [
      "85332/297516 galaxies with p>0.5 and N>=5.\n",
      "Bin-accretion...\n",
      "49  initial bins.\n",
      "Reassign bad bins...\n",
      "29  good bins.\n",
      "Modified Lloyd algorithm...\n",
      "26  iterations.\n",
      "Unbinned pixels:  0  /  1442\n",
      "Fractional S/N scatter (%): 17.5184594386\n",
      "time for answer: 0.9478492975234986 mins\n",
      "---------------------------------------------\n",
      "Q: t10_arms_winding\n",
      "A: a30_loose\n",
      "---------------------------------------------\n"
     ]
    },
    {
     "name": "stderr",
     "output_type": "stream",
     "text": [
      "/Users/coleman/Desktop/zooniverse/Debiasing/sample.py:16: RuntimeWarning: divide by zero encountered in log10\n",
      "  full_data['logR50'] = np.log10(full_data[params.R50_column])\n",
      "/Users/coleman/Desktop/zooniverse/Debiasing/sample.py:16: RuntimeWarning: invalid value encountered in log10\n",
      "  full_data['logR50'] = np.log10(full_data[params.R50_column])\n"
     ]
    },
    {
     "name": "stdout",
     "output_type": "stream",
     "text": [
      "85332/297516 galaxies with p>0.5 and N>=5.\n",
      "Bin-accretion...\n",
      "49  initial bins.\n",
      "Reassign bad bins...\n",
      "29  good bins.\n",
      "Modified Lloyd algorithm...\n",
      "26  iterations.\n",
      "Unbinned pixels:  0  /  1442\n",
      "Fractional S/N scatter (%): 17.5184594386\n",
      "time for answer: 0.9182539025942484 mins\n",
      "=============\n",
      "time for question: 2.8018880009651186 mins\n",
      "=============\n",
      "---------------------------------------------\n",
      "Q: t11_arms_number\n",
      "A: a31_1\n",
      "---------------------------------------------\n"
     ]
    },
    {
     "name": "stderr",
     "output_type": "stream",
     "text": [
      "/Users/coleman/Desktop/zooniverse/Debiasing/sample.py:16: RuntimeWarning: divide by zero encountered in log10\n",
      "  full_data['logR50'] = np.log10(full_data[params.R50_column])\n",
      "/Users/coleman/Desktop/zooniverse/Debiasing/sample.py:16: RuntimeWarning: invalid value encountered in log10\n",
      "  full_data['logR50'] = np.log10(full_data[params.R50_column])\n"
     ]
    },
    {
     "name": "stdout",
     "output_type": "stream",
     "text": [
      "85326/297516 galaxies with p>0.5 and N>=5.\n",
      "Bin-accretion...\n",
      "49  initial bins.\n",
      "Reassign bad bins...\n",
      "29  good bins.\n",
      "Modified Lloyd algorithm...\n",
      "26  iterations.\n",
      "Unbinned pixels:  0  /  1441\n",
      "Fractional S/N scatter (%): 17.5220696845\n",
      "time for answer: 0.8401674350102742 mins\n",
      "---------------------------------------------\n",
      "Q: t11_arms_number\n",
      "A: a32_2\n",
      "---------------------------------------------\n"
     ]
    },
    {
     "name": "stderr",
     "output_type": "stream",
     "text": [
      "/Users/coleman/Desktop/zooniverse/Debiasing/sample.py:16: RuntimeWarning: divide by zero encountered in log10\n",
      "  full_data['logR50'] = np.log10(full_data[params.R50_column])\n",
      "/Users/coleman/Desktop/zooniverse/Debiasing/sample.py:16: RuntimeWarning: invalid value encountered in log10\n",
      "  full_data['logR50'] = np.log10(full_data[params.R50_column])\n"
     ]
    },
    {
     "name": "stdout",
     "output_type": "stream",
     "text": [
      "85326/297516 galaxies with p>0.5 and N>=5.\n",
      "Bin-accretion...\n",
      "49  initial bins.\n",
      "Reassign bad bins...\n",
      "29  good bins.\n",
      "Modified Lloyd algorithm...\n",
      "26  iterations.\n",
      "Unbinned pixels:  0  /  1441\n",
      "Fractional S/N scatter (%): 17.5220696845\n",
      "time for answer: 0.9477015654246013 mins\n",
      "---------------------------------------------\n",
      "Q: t11_arms_number\n",
      "A: a33_3\n",
      "---------------------------------------------\n"
     ]
    },
    {
     "name": "stderr",
     "output_type": "stream",
     "text": [
      "/Users/coleman/Desktop/zooniverse/Debiasing/sample.py:16: RuntimeWarning: divide by zero encountered in log10\n",
      "  full_data['logR50'] = np.log10(full_data[params.R50_column])\n",
      "/Users/coleman/Desktop/zooniverse/Debiasing/sample.py:16: RuntimeWarning: invalid value encountered in log10\n",
      "  full_data['logR50'] = np.log10(full_data[params.R50_column])\n"
     ]
    },
    {
     "name": "stdout",
     "output_type": "stream",
     "text": [
      "85326/297516 galaxies with p>0.5 and N>=5.\n",
      "Bin-accretion...\n",
      "49  initial bins.\n",
      "Reassign bad bins...\n",
      "29  good bins.\n",
      "Modified Lloyd algorithm...\n",
      "26  iterations.\n",
      "Unbinned pixels:  0  /  1441\n",
      "Fractional S/N scatter (%): 17.5220696845\n",
      "time for answer: 0.8687989155451457 mins\n",
      "---------------------------------------------\n",
      "Q: t11_arms_number\n",
      "A: a34_4\n",
      "---------------------------------------------\n"
     ]
    },
    {
     "name": "stderr",
     "output_type": "stream",
     "text": [
      "/Users/coleman/Desktop/zooniverse/Debiasing/sample.py:16: RuntimeWarning: divide by zero encountered in log10\n",
      "  full_data['logR50'] = np.log10(full_data[params.R50_column])\n",
      "/Users/coleman/Desktop/zooniverse/Debiasing/sample.py:16: RuntimeWarning: invalid value encountered in log10\n",
      "  full_data['logR50'] = np.log10(full_data[params.R50_column])\n"
     ]
    },
    {
     "name": "stdout",
     "output_type": "stream",
     "text": [
      "85326/297516 galaxies with p>0.5 and N>=5.\n",
      "Bin-accretion...\n",
      "49  initial bins.\n",
      "Reassign bad bins...\n",
      "29  good bins.\n",
      "Modified Lloyd algorithm...\n",
      "26  iterations.\n",
      "Unbinned pixels:  0  /  1441\n",
      "Fractional S/N scatter (%): 17.5220696845\n",
      "time for answer: 0.7512525161107381 mins\n",
      "---------------------------------------------\n",
      "Q: t11_arms_number\n",
      "A: a36_more_than_4\n",
      "---------------------------------------------\n"
     ]
    },
    {
     "name": "stderr",
     "output_type": "stream",
     "text": [
      "/Users/coleman/Desktop/zooniverse/Debiasing/sample.py:16: RuntimeWarning: divide by zero encountered in log10\n",
      "  full_data['logR50'] = np.log10(full_data[params.R50_column])\n",
      "/Users/coleman/Desktop/zooniverse/Debiasing/sample.py:16: RuntimeWarning: invalid value encountered in log10\n",
      "  full_data['logR50'] = np.log10(full_data[params.R50_column])\n"
     ]
    },
    {
     "name": "stdout",
     "output_type": "stream",
     "text": [
      "85326/297516 galaxies with p>0.5 and N>=5.\n",
      "Bin-accretion...\n",
      "49  initial bins.\n",
      "Reassign bad bins...\n",
      "29  good bins.\n",
      "Modified Lloyd algorithm...\n",
      "26  iterations.\n",
      "Unbinned pixels:  0  /  1441\n",
      "Fractional S/N scatter (%): 17.5220696845\n",
      "time for answer: 0.7612439473470052 mins\n",
      "---------------------------------------------\n",
      "Q: t11_arms_number\n",
      "A: a37_cant_tell\n",
      "---------------------------------------------\n"
     ]
    },
    {
     "name": "stderr",
     "output_type": "stream",
     "text": [
      "/Users/coleman/Desktop/zooniverse/Debiasing/sample.py:16: RuntimeWarning: divide by zero encountered in log10\n",
      "  full_data['logR50'] = np.log10(full_data[params.R50_column])\n",
      "/Users/coleman/Desktop/zooniverse/Debiasing/sample.py:16: RuntimeWarning: invalid value encountered in log10\n",
      "  full_data['logR50'] = np.log10(full_data[params.R50_column])\n"
     ]
    },
    {
     "name": "stdout",
     "output_type": "stream",
     "text": [
      "85326/297516 galaxies with p>0.5 and N>=5.\n",
      "Bin-accretion...\n",
      "49  initial bins.\n",
      "Reassign bad bins...\n",
      "29  good bins.\n",
      "Modified Lloyd algorithm...\n",
      "26  iterations.\n",
      "Unbinned pixels:  0  /  1441\n",
      "Fractional S/N scatter (%): 17.5220696845\n",
      "time for answer: 0.9518854180971782 mins\n",
      "=============\n",
      "time for question: 5.121102766195933 mins\n",
      "=============\n",
      "time to run: 36.58533370097478 mins\n"
     ]
    }
   ],
   "source": [
    "t_start = time.time()\n",
    "for q in dictionaries.questions.keys():\n",
    "    t_start_question = time.time()\n",
    "    answers = dictionaries.questions[q]['answers']\n",
    "    for a in answers:\n",
    "        t_start_answer = time.time()\n",
    "        print('---------------------------------------------')\n",
    "        print('Q: {}'.format(q))\n",
    "        print('A: {}'.format(a))\n",
    "        print('---------------------------------------------')\n",
    "        data = debias.debias(data, params=params, dictionaries=dictionaries ,question=q, answer=a, verbose=True, use_bin=True)\n",
    "        t_end_answer = time.time()\n",
    "        print('time for answer: {0} mins'.format((t_end_answer - t_start_answer) / 60))\n",
    "    t_end_question = time.time()\n",
    "    print('=============')\n",
    "    print('time for question: {0} mins'.format((t_end_question - t_start_question) / 60))\n",
    "    print('=============')\n",
    "\n",
    "data.write(os.path.join(output_directory, 'nsa_debiased_one_to_one_bin.csv'), overwrite=True)\n",
    "t_end = time.time()\n",
    "print('time to run: {0} mins'.format((t_end - t_start) / 60 ))"
   ]
  },
  {
   "cell_type": "code",
   "execution_count": null,
   "metadata": {
    "collapsed": true
   },
   "outputs": [],
   "source": []
  },
  {
   "cell_type": "code",
   "execution_count": null,
   "metadata": {
    "collapsed": true
   },
   "outputs": [],
   "source": []
  },
  {
   "cell_type": "code",
   "execution_count": null,
   "metadata": {
    "collapsed": true
   },
   "outputs": [],
   "source": []
  }
 ],
 "metadata": {
  "kernelspec": {
   "display_name": "Python 3",
   "language": "python",
   "name": "python3"
  },
  "language_info": {
   "codemirror_mode": {
    "name": "ipython",
    "version": 3
   },
   "file_extension": ".py",
   "mimetype": "text/x-python",
   "name": "python",
   "nbconvert_exporter": "python",
   "pygments_lexer": "ipython3",
   "version": "3.5.2"
  }
 },
 "nbformat": 4,
 "nbformat_minor": 1
}
