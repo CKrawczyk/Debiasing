{
 "cells": [
  {
   "cell_type": "code",
   "execution_count": 1,
   "metadata": {
    "collapsed": true
   },
   "outputs": [],
   "source": [
    "import os\n",
    "from astropy.table import Table\n",
    "import time\n",
    "import dictionaries\n",
    "import params\n",
    "import debias\n",
    "\n",
    "data = Table.read(params.data_file)\n",
    "output_directory = params.output_directory\n",
    "\n",
    "if not os.path.isdir(output_directory):\n",
    "    os.mkdir(output_directory)"
   ]
  },
  {
   "cell_type": "code",
   "execution_count": 2,
   "metadata": {},
   "outputs": [
    {
     "name": "stdout",
     "output_type": "stream",
     "text": [
      "---------------------------------------------\n",
      "Q: t01_smooth_or_features\n",
      "A: a01_smooth\n",
      "---------------------------------------------\n"
     ]
    },
    {
     "name": "stderr",
     "output_type": "stream",
     "text": [
      "/Users/coleman/Desktop/zooniverse/Debiasing/sample.py:14: RuntimeWarning: divide by zero encountered in log10\n",
      "  full_data['logR50'] = np.log10(full_data[params.R50_column])\n"
     ]
    },
    {
     "name": "stdout",
     "output_type": "stream",
     "text": [
      "Primary question, so all 297590 galaxies used.\n",
      "Bin-accretion...\n",
      "99  initial bins.\n",
      "Reassign bad bins...\n",
      "26  good bins.\n",
      "Modified Lloyd algorithm...\n",
      "24  iterations.\n",
      "Unbinned pixels:  0  /  11559\n",
      "Fractional S/N scatter (%): 14.4543781663\n",
      "------------------\n",
      "chisq (log) = 1818.5\n",
      "chisq (exp) = 1282.2\n",
      "------------------\n",
      "=> exp function preferred\n"
     ]
    },
    {
     "name": "stderr",
     "output_type": "stream",
     "text": [
      "/Users/coleman/Desktop/zooniverse/Debiasing/fit.py:103: RuntimeWarning: invalid value encountered in log10\n",
      "  term = constant*np.log10(var)\n",
      "/Users/coleman/anaconda/envs/python3/lib/python3.5/site-packages/scipy/optimize/minpack.py:785: OptimizeWarning: Covariance of the parameters could not be estimated\n",
      "  category=OptimizeWarning)\n"
     ]
    },
    {
     "name": "stdout",
     "output_type": "stream",
     "text": [
      "--- Selected function (k): ---\n",
      "log(M),log(R),log(z)\n",
      "--- Selected function (c): ---\n",
      "log(M),log(R),log(z)\n"
     ]
    },
    {
     "name": "stderr",
     "output_type": "stream",
     "text": [
      "/Users/coleman/Desktop/zooniverse/Debiasing/fit.py:103: RuntimeWarning: divide by zero encountered in log10\n",
      "  term = constant*np.log10(var)\n",
      "/Users/coleman/Desktop/zooniverse/Debiasing/fit.py:245: RuntimeWarning: invalid value encountered in less_equal\n",
      "  p[p <= f.min_] = f.min_\n",
      "/Users/coleman/Desktop/zooniverse/Debiasing/fit.py:246: RuntimeWarning: invalid value encountered in greater_equal\n",
      "  p[p >= f.max_] = f.max_\n",
      "/Users/coleman/Desktop/zooniverse/Debiasing/dictionaries.py:31: RuntimeWarning: invalid value encountered in greater\n",
      "  ok = k > 0\n"
     ]
    },
    {
     "name": "stdout",
     "output_type": "stream",
     "text": [
      "fit method preferred\n",
      "---------\n",
      "chi2 (bin) = 0.2\n",
      "chi2 (fit) = 0.14\n",
      "---------\n",
      "---------------------------------------------\n",
      "Q: t01_smooth_or_features\n",
      "A: a02_features_or_disk\n",
      "---------------------------------------------\n"
     ]
    },
    {
     "name": "stderr",
     "output_type": "stream",
     "text": [
      "/Users/coleman/Desktop/zooniverse/Debiasing/sample.py:14: RuntimeWarning: divide by zero encountered in log10\n",
      "  full_data['logR50'] = np.log10(full_data[params.R50_column])\n"
     ]
    },
    {
     "name": "stdout",
     "output_type": "stream",
     "text": [
      "Primary question, so all 297590 galaxies used.\n",
      "Bin-accretion...\n",
      "99  initial bins.\n",
      "Reassign bad bins...\n",
      "26  good bins.\n",
      "Modified Lloyd algorithm...\n",
      "24  iterations.\n",
      "Unbinned pixels:  0  /  11559\n",
      "Fractional S/N scatter (%): 14.4543781663\n",
      "------------------\n",
      "chisq (log) = 972.8\n",
      "chisq (exp) = 600.9\n",
      "------------------\n",
      "=> exp function preferred\n"
     ]
    },
    {
     "name": "stderr",
     "output_type": "stream",
     "text": [
      "/Users/coleman/Desktop/zooniverse/Debiasing/fit.py:103: RuntimeWarning: invalid value encountered in log10\n",
      "  term = constant*np.log10(var)\n",
      "/Users/coleman/anaconda/envs/python3/lib/python3.5/site-packages/scipy/optimize/minpack.py:785: OptimizeWarning: Covariance of the parameters could not be estimated\n",
      "  category=OptimizeWarning)\n"
     ]
    },
    {
     "name": "stdout",
     "output_type": "stream",
     "text": [
      "--- Selected function (k): ---\n",
      "log(M),log(R),log(z)\n",
      "--- Selected function (c): ---\n",
      "log(M),log(R),log(z)\n"
     ]
    },
    {
     "name": "stderr",
     "output_type": "stream",
     "text": [
      "/Users/coleman/Desktop/zooniverse/Debiasing/fit.py:103: RuntimeWarning: divide by zero encountered in log10\n",
      "  term = constant*np.log10(var)\n",
      "/Users/coleman/Desktop/zooniverse/Debiasing/fit.py:245: RuntimeWarning: invalid value encountered in less_equal\n",
      "  p[p <= f.min_] = f.min_\n",
      "/Users/coleman/Desktop/zooniverse/Debiasing/fit.py:246: RuntimeWarning: invalid value encountered in greater_equal\n",
      "  p[p >= f.max_] = f.max_\n",
      "/Users/coleman/Desktop/zooniverse/Debiasing/dictionaries.py:31: RuntimeWarning: invalid value encountered in greater\n",
      "  ok = k > 0\n"
     ]
    },
    {
     "name": "stdout",
     "output_type": "stream",
     "text": [
      "bin method preferred\n",
      "---------\n",
      "chi2 (bin) = 0.12\n",
      "chi2 (fit) = 0.29\n",
      "---------\n",
      "---------------------------------------------\n",
      "Q: t01_smooth_or_features\n",
      "A: a03_star_or_artifact\n",
      "---------------------------------------------\n"
     ]
    },
    {
     "name": "stderr",
     "output_type": "stream",
     "text": [
      "/Users/coleman/Desktop/zooniverse/Debiasing/sample.py:14: RuntimeWarning: divide by zero encountered in log10\n",
      "  full_data['logR50'] = np.log10(full_data[params.R50_column])\n"
     ]
    },
    {
     "name": "stdout",
     "output_type": "stream",
     "text": [
      "Primary question, so all 297590 galaxies used.\n",
      "Bin-accretion...\n",
      "99  initial bins.\n",
      "Reassign bad bins...\n",
      "26  good bins.\n",
      "Modified Lloyd algorithm...\n",
      "24  iterations.\n",
      "Unbinned pixels:  0  /  11559\n",
      "Fractional S/N scatter (%): 14.4543781663\n",
      "------------------\n",
      "chisq (log) = 105.2\n",
      "chisq (exp) = 78.7\n",
      "------------------\n",
      "=> exp function preferred\n"
     ]
    },
    {
     "name": "stderr",
     "output_type": "stream",
     "text": [
      "/Users/coleman/Desktop/zooniverse/Debiasing/fit.py:103: RuntimeWarning: invalid value encountered in log10\n",
      "  term = constant*np.log10(var)\n"
     ]
    },
    {
     "name": "stdout",
     "output_type": "stream",
     "text": [
      "--- Selected function (k): ---\n",
      "log(M),log(R),log(z)\n",
      "--- Selected function (c): ---\n",
      "log(M),log(R),log(z)\n"
     ]
    },
    {
     "name": "stderr",
     "output_type": "stream",
     "text": [
      "/Users/coleman/Desktop/zooniverse/Debiasing/fit.py:103: RuntimeWarning: divide by zero encountered in log10\n",
      "  term = constant*np.log10(var)\n",
      "/Users/coleman/Desktop/zooniverse/Debiasing/fit.py:245: RuntimeWarning: invalid value encountered in less_equal\n",
      "  p[p <= f.min_] = f.min_\n",
      "/Users/coleman/Desktop/zooniverse/Debiasing/fit.py:246: RuntimeWarning: invalid value encountered in greater_equal\n",
      "  p[p >= f.max_] = f.max_\n",
      "/Users/coleman/Desktop/zooniverse/Debiasing/dictionaries.py:31: RuntimeWarning: invalid value encountered in greater\n",
      "  ok = k > 0\n"
     ]
    },
    {
     "name": "stdout",
     "output_type": "stream",
     "text": [
      "fit method preferred\n",
      "---------\n",
      "chi2 (bin) = 0.27\n",
      "chi2 (fit) = 0.01\n",
      "---------\n",
      "---------------------------------------------\n",
      "Q: t02_edgeon\n",
      "A: a04_yes\n",
      "---------------------------------------------\n"
     ]
    },
    {
     "name": "stderr",
     "output_type": "stream",
     "text": [
      "/Users/coleman/Desktop/zooniverse/Debiasing/sample.py:14: RuntimeWarning: divide by zero encountered in log10\n",
      "  full_data['logR50'] = np.log10(full_data[params.R50_column])\n"
     ]
    },
    {
     "name": "stdout",
     "output_type": "stream",
     "text": [
      "71784/297590 galaxies with p>0.5 and N>=5.\n",
      "Bin-accretion...\n",
      "228  initial bins.\n",
      "Reassign bad bins...\n",
      "26  good bins.\n",
      "Modified Lloyd algorithm...\n",
      "24  iterations.\n",
      "Unbinned pixels:  0  /  3137\n",
      "Fractional S/N scatter (%): 19.6562251082\n",
      "------------------\n",
      "chisq (log) = 379.8\n",
      "chisq (exp) = 137.7\n",
      "------------------\n",
      "=> exp function preferred\n",
      "--- Selected function (k): ---\n",
      "log(M),log(R),log(z)\n"
     ]
    },
    {
     "name": "stderr",
     "output_type": "stream",
     "text": [
      "/Users/coleman/Desktop/zooniverse/Debiasing/fit.py:103: RuntimeWarning: invalid value encountered in log10\n",
      "  term = constant*np.log10(var)\n",
      "/Users/coleman/anaconda/envs/python3/lib/python3.5/site-packages/scipy/optimize/minpack.py:785: OptimizeWarning: Covariance of the parameters could not be estimated\n",
      "  category=OptimizeWarning)\n"
     ]
    },
    {
     "name": "stdout",
     "output_type": "stream",
     "text": [
      "--- Selected function (c): ---\n",
      "log(M),log(R),log(z)\n"
     ]
    },
    {
     "name": "stderr",
     "output_type": "stream",
     "text": [
      "/Users/coleman/Desktop/zooniverse/Debiasing/fit.py:103: RuntimeWarning: divide by zero encountered in log10\n",
      "  term = constant*np.log10(var)\n",
      "/Users/coleman/Desktop/zooniverse/Debiasing/fit.py:245: RuntimeWarning: invalid value encountered in less_equal\n",
      "  p[p <= f.min_] = f.min_\n",
      "/Users/coleman/Desktop/zooniverse/Debiasing/fit.py:246: RuntimeWarning: invalid value encountered in greater_equal\n",
      "  p[p >= f.max_] = f.max_\n",
      "/Users/coleman/Desktop/zooniverse/Debiasing/dictionaries.py:31: RuntimeWarning: invalid value encountered in greater\n",
      "  ok = k > 0\n"
     ]
    },
    {
     "name": "stdout",
     "output_type": "stream",
     "text": [
      "bin method preferred\n",
      "---------\n",
      "chi2 (bin) = 0.12\n",
      "chi2 (fit) = 0.45\n",
      "---------\n",
      "---------------------------------------------\n",
      "Q: t02_edgeon\n",
      "A: a05_no\n",
      "---------------------------------------------\n"
     ]
    },
    {
     "name": "stderr",
     "output_type": "stream",
     "text": [
      "/Users/coleman/Desktop/zooniverse/Debiasing/sample.py:14: RuntimeWarning: divide by zero encountered in log10\n",
      "  full_data['logR50'] = np.log10(full_data[params.R50_column])\n"
     ]
    },
    {
     "name": "stdout",
     "output_type": "stream",
     "text": [
      "71784/297590 galaxies with p>0.5 and N>=5.\n",
      "Bin-accretion...\n",
      "228  initial bins.\n",
      "Reassign bad bins...\n",
      "26  good bins.\n",
      "Modified Lloyd algorithm...\n",
      "24  iterations.\n",
      "Unbinned pixels:  0  /  3137\n",
      "Fractional S/N scatter (%): 19.6562251082\n",
      "------------------\n",
      "chisq (log) = 3681.7\n",
      "chisq (exp) = 285.1\n",
      "------------------\n",
      "=> exp function preferred\n",
      "--- Selected function (k): ---\n",
      "log(M),log(R),log(z)\n"
     ]
    },
    {
     "name": "stderr",
     "output_type": "stream",
     "text": [
      "/Users/coleman/Desktop/zooniverse/Debiasing/fit.py:103: RuntimeWarning: invalid value encountered in log10\n",
      "  term = constant*np.log10(var)\n",
      "/Users/coleman/anaconda/envs/python3/lib/python3.5/site-packages/scipy/optimize/minpack.py:785: OptimizeWarning: Covariance of the parameters could not be estimated\n",
      "  category=OptimizeWarning)\n"
     ]
    },
    {
     "name": "stdout",
     "output_type": "stream",
     "text": [
      "--- Selected function (c): ---\n",
      "log(M),log(R),log(z)\n"
     ]
    },
    {
     "name": "stderr",
     "output_type": "stream",
     "text": [
      "/Users/coleman/Desktop/zooniverse/Debiasing/fit.py:103: RuntimeWarning: divide by zero encountered in log10\n",
      "  term = constant*np.log10(var)\n",
      "/Users/coleman/Desktop/zooniverse/Debiasing/fit.py:245: RuntimeWarning: invalid value encountered in less_equal\n",
      "  p[p <= f.min_] = f.min_\n",
      "/Users/coleman/Desktop/zooniverse/Debiasing/fit.py:246: RuntimeWarning: invalid value encountered in greater_equal\n",
      "  p[p >= f.max_] = f.max_\n",
      "/Users/coleman/Desktop/zooniverse/Debiasing/dictionaries.py:31: RuntimeWarning: invalid value encountered in greater\n",
      "  ok = k > 0\n"
     ]
    },
    {
     "name": "stdout",
     "output_type": "stream",
     "text": [
      "bin method preferred\n",
      "---------\n",
      "chi2 (bin) = 0.13\n",
      "chi2 (fit) = 0.16\n",
      "---------\n",
      "---------------------------------------------\n",
      "Q: t03_bar\n",
      "A: a06_bar\n",
      "---------------------------------------------\n"
     ]
    },
    {
     "name": "stderr",
     "output_type": "stream",
     "text": [
      "/Users/coleman/Desktop/zooniverse/Debiasing/sample.py:14: RuntimeWarning: divide by zero encountered in log10\n",
      "  full_data['logR50'] = np.log10(full_data[params.R50_column])\n"
     ]
    },
    {
     "name": "stdout",
     "output_type": "stream",
     "text": [
      "44708/297590 galaxies with p>0.5 and N>=5.\n",
      "Bin-accretion...\n",
      "90  initial bins.\n",
      "Reassign bad bins...\n",
      "26  good bins.\n",
      "Modified Lloyd algorithm...\n",
      "24  iterations.\n",
      "Unbinned pixels:  0  /  2006\n",
      "Fractional S/N scatter (%): 13.5699761663\n",
      "------------------\n",
      "chisq (log) = 91.4\n",
      "chisq (exp) = 91.7\n",
      "------------------\n",
      "=> log function preferred\n",
      "--- Selected function (k): ---\n",
      "log(M),log(R),log(z)\n"
     ]
    },
    {
     "name": "stderr",
     "output_type": "stream",
     "text": [
      "/Users/coleman/Desktop/zooniverse/Debiasing/fit.py:103: RuntimeWarning: invalid value encountered in log10\n",
      "  term = constant*np.log10(var)\n",
      "/Users/coleman/anaconda/envs/python3/lib/python3.5/site-packages/scipy/optimize/minpack.py:785: OptimizeWarning: Covariance of the parameters could not be estimated\n",
      "  category=OptimizeWarning)\n"
     ]
    },
    {
     "name": "stdout",
     "output_type": "stream",
     "text": [
      "--- Selected function (c): ---\n",
      "log(M),log(R),log(z)\n"
     ]
    },
    {
     "name": "stderr",
     "output_type": "stream",
     "text": [
      "/Users/coleman/Desktop/zooniverse/Debiasing/fit.py:103: RuntimeWarning: divide by zero encountered in log10\n",
      "  term = constant*np.log10(var)\n",
      "/Users/coleman/Desktop/zooniverse/Debiasing/fit.py:245: RuntimeWarning: invalid value encountered in less_equal\n",
      "  p[p <= f.min_] = f.min_\n",
      "/Users/coleman/Desktop/zooniverse/Debiasing/fit.py:246: RuntimeWarning: invalid value encountered in greater_equal\n",
      "  p[p >= f.max_] = f.max_\n"
     ]
    },
    {
     "name": "stdout",
     "output_type": "stream",
     "text": [
      "bin method preferred\n",
      "---------\n",
      "chi2 (bin) = 0.02\n",
      "chi2 (fit) = 0.12\n",
      "---------\n",
      "---------------------------------------------\n",
      "Q: t03_bar\n",
      "A: a07_no_bar\n",
      "---------------------------------------------\n"
     ]
    },
    {
     "name": "stderr",
     "output_type": "stream",
     "text": [
      "/Users/coleman/Desktop/zooniverse/Debiasing/sample.py:14: RuntimeWarning: divide by zero encountered in log10\n",
      "  full_data['logR50'] = np.log10(full_data[params.R50_column])\n"
     ]
    },
    {
     "name": "stdout",
     "output_type": "stream",
     "text": [
      "44708/297590 galaxies with p>0.5 and N>=5.\n",
      "Bin-accretion...\n",
      "90  initial bins.\n",
      "Reassign bad bins...\n",
      "26  good bins.\n",
      "Modified Lloyd algorithm...\n",
      "24  iterations.\n",
      "Unbinned pixels:  0  /  2006\n",
      "Fractional S/N scatter (%): 13.5699761663\n",
      "------------------\n",
      "chisq (log) = 323.8\n",
      "chisq (exp) = 129.3\n",
      "------------------\n",
      "=> exp function preferred\n",
      "--- Selected function (k): ---\n",
      "log(M),log(R),log(z)\n"
     ]
    },
    {
     "name": "stderr",
     "output_type": "stream",
     "text": [
      "/Users/coleman/Desktop/zooniverse/Debiasing/fit.py:103: RuntimeWarning: invalid value encountered in log10\n",
      "  term = constant*np.log10(var)\n",
      "/Users/coleman/anaconda/envs/python3/lib/python3.5/site-packages/scipy/optimize/minpack.py:785: OptimizeWarning: Covariance of the parameters could not be estimated\n",
      "  category=OptimizeWarning)\n"
     ]
    },
    {
     "name": "stdout",
     "output_type": "stream",
     "text": [
      "--- Selected function (c): ---\n",
      "log(M),log(R),log(z)\n"
     ]
    },
    {
     "name": "stderr",
     "output_type": "stream",
     "text": [
      "/Users/coleman/Desktop/zooniverse/Debiasing/fit.py:103: RuntimeWarning: divide by zero encountered in log10\n",
      "  term = constant*np.log10(var)\n",
      "/Users/coleman/Desktop/zooniverse/Debiasing/fit.py:245: RuntimeWarning: invalid value encountered in less_equal\n",
      "  p[p <= f.min_] = f.min_\n",
      "/Users/coleman/Desktop/zooniverse/Debiasing/fit.py:246: RuntimeWarning: invalid value encountered in greater_equal\n",
      "  p[p >= f.max_] = f.max_\n",
      "/Users/coleman/Desktop/zooniverse/Debiasing/dictionaries.py:31: RuntimeWarning: invalid value encountered in greater\n",
      "  ok = k > 0\n"
     ]
    },
    {
     "name": "stdout",
     "output_type": "stream",
     "text": [
      "bin method preferred\n",
      "---------\n",
      "chi2 (bin) = 0.04\n",
      "chi2 (fit) = 0.21\n",
      "---------\n",
      "---------------------------------------------\n",
      "Q: t04_spiral\n",
      "A: a08_spiral\n",
      "---------------------------------------------\n"
     ]
    },
    {
     "name": "stderr",
     "output_type": "stream",
     "text": [
      "/Users/coleman/Desktop/zooniverse/Debiasing/sample.py:14: RuntimeWarning: divide by zero encountered in log10\n",
      "  full_data['logR50'] = np.log10(full_data[params.R50_column])\n"
     ]
    },
    {
     "name": "stdout",
     "output_type": "stream",
     "text": [
      "44708/297590 galaxies with p>0.5 and N>=5.\n",
      "Bin-accretion...\n",
      "90  initial bins.\n",
      "Reassign bad bins...\n",
      "26  good bins.\n",
      "Modified Lloyd algorithm...\n",
      "24  iterations.\n",
      "Unbinned pixels:  0  /  2006\n",
      "Fractional S/N scatter (%): 13.5699761663\n",
      "------------------\n",
      "chisq (log) = 1566.9\n",
      "chisq (exp) = 122.6\n",
      "------------------\n",
      "=> exp function preferred\n",
      "--- Selected function (k): ---\n",
      "log(M),log(R),log(z)\n"
     ]
    },
    {
     "name": "stderr",
     "output_type": "stream",
     "text": [
      "/Users/coleman/Desktop/zooniverse/Debiasing/fit.py:103: RuntimeWarning: invalid value encountered in log10\n",
      "  term = constant*np.log10(var)\n",
      "/Users/coleman/anaconda/envs/python3/lib/python3.5/site-packages/scipy/optimize/minpack.py:785: OptimizeWarning: Covariance of the parameters could not be estimated\n",
      "  category=OptimizeWarning)\n"
     ]
    },
    {
     "name": "stdout",
     "output_type": "stream",
     "text": [
      "--- Selected function (c): ---\n",
      "log(M),log(R),log(z)\n"
     ]
    },
    {
     "name": "stderr",
     "output_type": "stream",
     "text": [
      "/Users/coleman/Desktop/zooniverse/Debiasing/fit.py:103: RuntimeWarning: divide by zero encountered in log10\n",
      "  term = constant*np.log10(var)\n",
      "/Users/coleman/Desktop/zooniverse/Debiasing/fit.py:245: RuntimeWarning: invalid value encountered in less_equal\n",
      "  p[p <= f.min_] = f.min_\n",
      "/Users/coleman/Desktop/zooniverse/Debiasing/fit.py:246: RuntimeWarning: invalid value encountered in greater_equal\n",
      "  p[p >= f.max_] = f.max_\n",
      "/Users/coleman/Desktop/zooniverse/Debiasing/dictionaries.py:31: RuntimeWarning: invalid value encountered in greater\n",
      "  ok = k > 0\n"
     ]
    },
    {
     "name": "stdout",
     "output_type": "stream",
     "text": [
      "fit method preferred\n",
      "---------\n",
      "chi2 (bin) = 0.49\n",
      "chi2 (fit) = 0.1\n",
      "---------\n",
      "---------------------------------------------\n",
      "Q: t04_spiral\n",
      "A: a09_no_spiral\n",
      "---------------------------------------------\n"
     ]
    },
    {
     "name": "stderr",
     "output_type": "stream",
     "text": [
      "/Users/coleman/Desktop/zooniverse/Debiasing/sample.py:14: RuntimeWarning: divide by zero encountered in log10\n",
      "  full_data['logR50'] = np.log10(full_data[params.R50_column])\n"
     ]
    },
    {
     "name": "stdout",
     "output_type": "stream",
     "text": [
      "44708/297590 galaxies with p>0.5 and N>=5.\n",
      "Bin-accretion...\n",
      "90  initial bins.\n",
      "Reassign bad bins...\n",
      "26  good bins.\n",
      "Modified Lloyd algorithm...\n",
      "24  iterations.\n",
      "Unbinned pixels:  0  /  2006\n",
      "Fractional S/N scatter (%): 13.5699761663\n",
      "------------------\n",
      "chisq (log) = 124.1\n",
      "chisq (exp) = 39.9\n",
      "------------------\n",
      "=> exp function preferred\n",
      "--- Selected function (k): ---\n",
      "log(M),log(R),log(z)\n"
     ]
    },
    {
     "name": "stderr",
     "output_type": "stream",
     "text": [
      "/Users/coleman/Desktop/zooniverse/Debiasing/fit.py:103: RuntimeWarning: invalid value encountered in log10\n",
      "  term = constant*np.log10(var)\n",
      "/Users/coleman/anaconda/envs/python3/lib/python3.5/site-packages/scipy/optimize/minpack.py:785: OptimizeWarning: Covariance of the parameters could not be estimated\n",
      "  category=OptimizeWarning)\n"
     ]
    },
    {
     "name": "stdout",
     "output_type": "stream",
     "text": [
      "--- Selected function (c): ---\n",
      "log(M),log(R),log(z)\n"
     ]
    },
    {
     "name": "stderr",
     "output_type": "stream",
     "text": [
      "/Users/coleman/Desktop/zooniverse/Debiasing/fit.py:103: RuntimeWarning: divide by zero encountered in log10\n",
      "  term = constant*np.log10(var)\n",
      "/Users/coleman/Desktop/zooniverse/Debiasing/fit.py:245: RuntimeWarning: invalid value encountered in less_equal\n",
      "  p[p <= f.min_] = f.min_\n",
      "/Users/coleman/Desktop/zooniverse/Debiasing/fit.py:246: RuntimeWarning: invalid value encountered in greater_equal\n",
      "  p[p >= f.max_] = f.max_\n",
      "/Users/coleman/Desktop/zooniverse/Debiasing/dictionaries.py:31: RuntimeWarning: invalid value encountered in greater\n",
      "  ok = k > 0\n"
     ]
    },
    {
     "name": "stdout",
     "output_type": "stream",
     "text": [
      "fit method preferred\n",
      "---------\n",
      "chi2 (bin) = 0.43\n",
      "chi2 (fit) = 0.17\n",
      "---------\n",
      "---------------------------------------------\n",
      "Q: t05_bulge_prominence\n",
      "A: a10_no_bulge\n",
      "---------------------------------------------\n"
     ]
    },
    {
     "name": "stderr",
     "output_type": "stream",
     "text": [
      "/Users/coleman/Desktop/zooniverse/Debiasing/sample.py:14: RuntimeWarning: divide by zero encountered in log10\n",
      "  full_data['logR50'] = np.log10(full_data[params.R50_column])\n"
     ]
    },
    {
     "name": "stdout",
     "output_type": "stream",
     "text": [
      "44706/297590 galaxies with p>0.5 and N>=5.\n",
      "Bin-accretion...\n",
      "90  initial bins.\n",
      "Reassign bad bins...\n",
      "26  good bins.\n",
      "Modified Lloyd algorithm...\n",
      "24  iterations.\n",
      "Unbinned pixels:  0  /  2006\n",
      "Fractional S/N scatter (%): 13.577448518\n",
      "------------------\n",
      "chisq (log) = 26.7\n",
      "chisq (exp) = 16.1\n",
      "------------------\n",
      "=> exp function preferred\n",
      "--- Selected function (k): ---\n",
      "log(M),log(R),log(z)\n"
     ]
    },
    {
     "name": "stderr",
     "output_type": "stream",
     "text": [
      "/Users/coleman/Desktop/zooniverse/Debiasing/fit.py:103: RuntimeWarning: invalid value encountered in log10\n",
      "  term = constant*np.log10(var)\n",
      "/Users/coleman/anaconda/envs/python3/lib/python3.5/site-packages/scipy/optimize/minpack.py:785: OptimizeWarning: Covariance of the parameters could not be estimated\n",
      "  category=OptimizeWarning)\n"
     ]
    },
    {
     "name": "stdout",
     "output_type": "stream",
     "text": [
      "--- Selected function (c): ---\n",
      "log(M),log(R),log(z)\n"
     ]
    },
    {
     "name": "stderr",
     "output_type": "stream",
     "text": [
      "/Users/coleman/Desktop/zooniverse/Debiasing/fit.py:103: RuntimeWarning: divide by zero encountered in log10\n",
      "  term = constant*np.log10(var)\n",
      "/Users/coleman/Desktop/zooniverse/Debiasing/fit.py:245: RuntimeWarning: invalid value encountered in less_equal\n",
      "  p[p <= f.min_] = f.min_\n",
      "/Users/coleman/Desktop/zooniverse/Debiasing/fit.py:246: RuntimeWarning: invalid value encountered in greater_equal\n",
      "  p[p >= f.max_] = f.max_\n",
      "/Users/coleman/Desktop/zooniverse/Debiasing/dictionaries.py:31: RuntimeWarning: invalid value encountered in greater\n",
      "  ok = k > 0\n"
     ]
    },
    {
     "name": "stdout",
     "output_type": "stream",
     "text": [
      "fit method preferred\n",
      "---------\n",
      "chi2 (bin) = 0.17\n",
      "chi2 (fit) = 0.15\n",
      "---------\n",
      "---------------------------------------------\n",
      "Q: t05_bulge_prominence\n",
      "A: a11_just_noticeable\n",
      "---------------------------------------------\n"
     ]
    },
    {
     "name": "stderr",
     "output_type": "stream",
     "text": [
      "/Users/coleman/Desktop/zooniverse/Debiasing/sample.py:14: RuntimeWarning: divide by zero encountered in log10\n",
      "  full_data['logR50'] = np.log10(full_data[params.R50_column])\n"
     ]
    },
    {
     "name": "stdout",
     "output_type": "stream",
     "text": [
      "44706/297590 galaxies with p>0.5 and N>=5.\n",
      "Bin-accretion...\n",
      "90  initial bins.\n",
      "Reassign bad bins...\n",
      "26  good bins.\n",
      "Modified Lloyd algorithm...\n",
      "24  iterations.\n",
      "Unbinned pixels:  0  /  2006\n",
      "Fractional S/N scatter (%): 13.577448518\n",
      "------------------\n",
      "chisq (log) = 341.2\n",
      "chisq (exp) = 131.2\n",
      "------------------\n",
      "=> exp function preferred\n",
      "--- Selected function (k): ---\n",
      "log(M),log(R),log(z)\n"
     ]
    },
    {
     "name": "stderr",
     "output_type": "stream",
     "text": [
      "/Users/coleman/Desktop/zooniverse/Debiasing/fit.py:103: RuntimeWarning: invalid value encountered in log10\n",
      "  term = constant*np.log10(var)\n",
      "/Users/coleman/anaconda/envs/python3/lib/python3.5/site-packages/scipy/optimize/minpack.py:785: OptimizeWarning: Covariance of the parameters could not be estimated\n",
      "  category=OptimizeWarning)\n"
     ]
    },
    {
     "name": "stdout",
     "output_type": "stream",
     "text": [
      "--- Selected function (c): ---\n",
      "log(M),log(R),log(z)\n"
     ]
    },
    {
     "name": "stderr",
     "output_type": "stream",
     "text": [
      "/Users/coleman/Desktop/zooniverse/Debiasing/fit.py:103: RuntimeWarning: divide by zero encountered in log10\n",
      "  term = constant*np.log10(var)\n",
      "/Users/coleman/Desktop/zooniverse/Debiasing/fit.py:245: RuntimeWarning: invalid value encountered in less_equal\n",
      "  p[p <= f.min_] = f.min_\n",
      "/Users/coleman/Desktop/zooniverse/Debiasing/fit.py:246: RuntimeWarning: invalid value encountered in greater_equal\n",
      "  p[p >= f.max_] = f.max_\n",
      "/Users/coleman/Desktop/zooniverse/Debiasing/dictionaries.py:31: RuntimeWarning: invalid value encountered in greater\n",
      "  ok = k > 0\n"
     ]
    },
    {
     "name": "stdout",
     "output_type": "stream",
     "text": [
      "fit method preferred\n",
      "---------\n",
      "chi2 (bin) = 0.63\n",
      "chi2 (fit) = 0.11\n",
      "---------\n",
      "---------------------------------------------\n",
      "Q: t05_bulge_prominence\n",
      "A: a12_obvious\n",
      "---------------------------------------------\n"
     ]
    },
    {
     "name": "stderr",
     "output_type": "stream",
     "text": [
      "/Users/coleman/Desktop/zooniverse/Debiasing/sample.py:14: RuntimeWarning: divide by zero encountered in log10\n",
      "  full_data['logR50'] = np.log10(full_data[params.R50_column])\n"
     ]
    },
    {
     "name": "stdout",
     "output_type": "stream",
     "text": [
      "44706/297590 galaxies with p>0.5 and N>=5.\n",
      "Bin-accretion...\n",
      "90  initial bins.\n",
      "Reassign bad bins...\n",
      "26  good bins.\n",
      "Modified Lloyd algorithm...\n",
      "24  iterations.\n",
      "Unbinned pixels:  0  /  2006\n",
      "Fractional S/N scatter (%): 13.577448518\n",
      "------------------\n",
      "chisq (log) = 190.7\n",
      "chisq (exp) = 127.5\n",
      "------------------\n",
      "=> exp function preferred\n",
      "--- Selected function (k): ---\n",
      "log(M),log(R),log(z)\n"
     ]
    },
    {
     "name": "stderr",
     "output_type": "stream",
     "text": [
      "/Users/coleman/Desktop/zooniverse/Debiasing/fit.py:103: RuntimeWarning: invalid value encountered in log10\n",
      "  term = constant*np.log10(var)\n",
      "/Users/coleman/anaconda/envs/python3/lib/python3.5/site-packages/scipy/optimize/minpack.py:785: OptimizeWarning: Covariance of the parameters could not be estimated\n",
      "  category=OptimizeWarning)\n"
     ]
    },
    {
     "name": "stdout",
     "output_type": "stream",
     "text": [
      "--- Selected function (c): ---\n",
      "log(M),log(R),log(z)\n"
     ]
    },
    {
     "name": "stderr",
     "output_type": "stream",
     "text": [
      "/Users/coleman/Desktop/zooniverse/Debiasing/fit.py:103: RuntimeWarning: divide by zero encountered in log10\n",
      "  term = constant*np.log10(var)\n",
      "/Users/coleman/Desktop/zooniverse/Debiasing/fit.py:245: RuntimeWarning: invalid value encountered in less_equal\n",
      "  p[p <= f.min_] = f.min_\n",
      "/Users/coleman/Desktop/zooniverse/Debiasing/fit.py:246: RuntimeWarning: invalid value encountered in greater_equal\n",
      "  p[p >= f.max_] = f.max_\n",
      "/Users/coleman/Desktop/zooniverse/Debiasing/dictionaries.py:31: RuntimeWarning: invalid value encountered in greater\n",
      "  ok = k > 0\n"
     ]
    },
    {
     "name": "stdout",
     "output_type": "stream",
     "text": [
      "fit method preferred\n",
      "---------\n",
      "chi2 (bin) = 0.16\n",
      "chi2 (fit) = 0.08\n",
      "---------\n",
      "---------------------------------------------\n",
      "Q: t05_bulge_prominence\n",
      "A: a13_dominant\n",
      "---------------------------------------------\n"
     ]
    },
    {
     "name": "stderr",
     "output_type": "stream",
     "text": [
      "/Users/coleman/Desktop/zooniverse/Debiasing/sample.py:14: RuntimeWarning: divide by zero encountered in log10\n",
      "  full_data['logR50'] = np.log10(full_data[params.R50_column])\n"
     ]
    },
    {
     "name": "stdout",
     "output_type": "stream",
     "text": [
      "44706/297590 galaxies with p>0.5 and N>=5.\n",
      "Bin-accretion...\n",
      "90  initial bins.\n",
      "Reassign bad bins...\n",
      "26  good bins.\n",
      "Modified Lloyd algorithm...\n",
      "24  iterations.\n",
      "Unbinned pixels:  0  /  2006\n",
      "Fractional S/N scatter (%): 13.577448518\n",
      "------------------\n",
      "chisq (log) = 34.1\n",
      "chisq (exp) = 22.5\n",
      "------------------\n",
      "=> exp function preferred\n",
      "--- Selected function (k): ---\n",
      "log(M),log(R),log(z)\n"
     ]
    },
    {
     "name": "stderr",
     "output_type": "stream",
     "text": [
      "/Users/coleman/Desktop/zooniverse/Debiasing/fit.py:103: RuntimeWarning: invalid value encountered in log10\n",
      "  term = constant*np.log10(var)\n",
      "/Users/coleman/anaconda/envs/python3/lib/python3.5/site-packages/scipy/optimize/minpack.py:785: OptimizeWarning: Covariance of the parameters could not be estimated\n",
      "  category=OptimizeWarning)\n"
     ]
    },
    {
     "name": "stdout",
     "output_type": "stream",
     "text": [
      "--- Selected function (c): ---\n",
      "log(M),log(R),log(z)\n"
     ]
    },
    {
     "name": "stderr",
     "output_type": "stream",
     "text": [
      "/Users/coleman/Desktop/zooniverse/Debiasing/fit.py:103: RuntimeWarning: divide by zero encountered in log10\n",
      "  term = constant*np.log10(var)\n",
      "/Users/coleman/Desktop/zooniverse/Debiasing/fit.py:245: RuntimeWarning: invalid value encountered in less_equal\n",
      "  p[p <= f.min_] = f.min_\n",
      "/Users/coleman/Desktop/zooniverse/Debiasing/fit.py:246: RuntimeWarning: invalid value encountered in greater_equal\n",
      "  p[p >= f.max_] = f.max_\n",
      "/Users/coleman/Desktop/zooniverse/Debiasing/dictionaries.py:31: RuntimeWarning: invalid value encountered in greater\n",
      "  ok = k > 0\n"
     ]
    },
    {
     "name": "stdout",
     "output_type": "stream",
     "text": [
      "fit method preferred\n",
      "---------\n",
      "chi2 (bin) = 0.34\n",
      "chi2 (fit) = 0.07\n",
      "---------\n",
      "---------------------------------------------\n",
      "Q: t06_odd\n",
      "A: a14_yes\n",
      "---------------------------------------------\n"
     ]
    },
    {
     "name": "stderr",
     "output_type": "stream",
     "text": [
      "/Users/coleman/Desktop/zooniverse/Debiasing/sample.py:14: RuntimeWarning: divide by zero encountered in log10\n",
      "  full_data['logR50'] = np.log10(full_data[params.R50_column])\n"
     ]
    },
    {
     "name": "stdout",
     "output_type": "stream",
     "text": [
      "Primary question, so all 297590 galaxies used.\n",
      "Bin-accretion...\n",
      "99  initial bins.\n",
      "Reassign bad bins...\n",
      "26  good bins.\n",
      "Modified Lloyd algorithm...\n",
      "24  iterations.\n",
      "Unbinned pixels:  0  /  11559\n",
      "Fractional S/N scatter (%): 14.4543781663\n"
     ]
    },
    {
     "name": "stderr",
     "output_type": "stream",
     "text": [
      "/Users/coleman/Desktop/zooniverse/Debiasing/fit.py:33: RuntimeWarning: divide by zero encountered in log10\n",
      "  x, y = [np.log10(fv[fv_nonzero]), cf[fv_nonzero]]\n",
      "/Users/coleman/Desktop/zooniverse/Debiasing/fit.py:33: RuntimeWarning: divide by zero encountered in log10\n",
      "  x, y = [np.log10(fv[fv_nonzero]), cf[fv_nonzero]]\n"
     ]
    },
    {
     "name": "stdout",
     "output_type": "stream",
     "text": [
      "------------------\n",
      "chisq (log) = 349.1\n",
      "chisq (exp) = 301.5\n",
      "------------------\n",
      "=> exp function preferred\n"
     ]
    },
    {
     "name": "stderr",
     "output_type": "stream",
     "text": [
      "/Users/coleman/Desktop/zooniverse/Debiasing/fit.py:103: RuntimeWarning: invalid value encountered in log10\n",
      "  term = constant*np.log10(var)\n"
     ]
    },
    {
     "name": "stdout",
     "output_type": "stream",
     "text": [
      "--- Selected function (k): ---\n",
      "log(M),log(R),log(z)\n"
     ]
    },
    {
     "name": "stderr",
     "output_type": "stream",
     "text": [
      "/Users/coleman/anaconda/envs/python3/lib/python3.5/site-packages/scipy/optimize/minpack.py:785: OptimizeWarning: Covariance of the parameters could not be estimated\n",
      "  category=OptimizeWarning)\n"
     ]
    },
    {
     "name": "stdout",
     "output_type": "stream",
     "text": [
      "--- Selected function (c): ---\n",
      "log(M),log(R),log(z)\n"
     ]
    },
    {
     "name": "stderr",
     "output_type": "stream",
     "text": [
      "/Users/coleman/Desktop/zooniverse/Debiasing/fit.py:103: RuntimeWarning: divide by zero encountered in log10\n",
      "  term = constant*np.log10(var)\n",
      "/Users/coleman/Desktop/zooniverse/Debiasing/fit.py:245: RuntimeWarning: invalid value encountered in less_equal\n",
      "  p[p <= f.min_] = f.min_\n",
      "/Users/coleman/Desktop/zooniverse/Debiasing/fit.py:246: RuntimeWarning: invalid value encountered in greater_equal\n",
      "  p[p >= f.max_] = f.max_\n",
      "/Users/coleman/Desktop/zooniverse/Debiasing/dictionaries.py:31: RuntimeWarning: invalid value encountered in greater\n",
      "  ok = k > 0\n"
     ]
    },
    {
     "name": "stdout",
     "output_type": "stream",
     "text": [
      "fit method preferred\n",
      "---------\n",
      "chi2 (bin) = 0.24\n",
      "chi2 (fit) = 0.01\n",
      "---------\n",
      "---------------------------------------------\n",
      "Q: t06_odd\n",
      "A: a15_no\n",
      "---------------------------------------------\n"
     ]
    },
    {
     "name": "stderr",
     "output_type": "stream",
     "text": [
      "/Users/coleman/Desktop/zooniverse/Debiasing/sample.py:14: RuntimeWarning: divide by zero encountered in log10\n",
      "  full_data['logR50'] = np.log10(full_data[params.R50_column])\n"
     ]
    },
    {
     "name": "stdout",
     "output_type": "stream",
     "text": [
      "Primary question, so all 297590 galaxies used.\n",
      "Bin-accretion...\n",
      "99  initial bins.\n",
      "Reassign bad bins...\n",
      "26  good bins.\n",
      "Modified Lloyd algorithm...\n",
      "24  iterations.\n",
      "Unbinned pixels:  0  /  11559\n",
      "Fractional S/N scatter (%): 14.4543781663\n"
     ]
    },
    {
     "name": "stderr",
     "output_type": "stream",
     "text": [
      "/Users/coleman/Desktop/zooniverse/Debiasing/fit.py:33: RuntimeWarning: divide by zero encountered in log10\n",
      "  x, y = [np.log10(fv[fv_nonzero]), cf[fv_nonzero]]\n",
      "/Users/coleman/Desktop/zooniverse/Debiasing/fit.py:33: RuntimeWarning: divide by zero encountered in log10\n",
      "  x, y = [np.log10(fv[fv_nonzero]), cf[fv_nonzero]]\n"
     ]
    },
    {
     "name": "stdout",
     "output_type": "stream",
     "text": [
      "------------------\n",
      "chisq (log) = 3223.9\n",
      "chisq (exp) = 619.5\n",
      "------------------\n",
      "=> exp function preferred\n"
     ]
    },
    {
     "name": "stderr",
     "output_type": "stream",
     "text": [
      "/Users/coleman/Desktop/zooniverse/Debiasing/fit.py:103: RuntimeWarning: invalid value encountered in log10\n",
      "  term = constant*np.log10(var)\n",
      "/Users/coleman/anaconda/envs/python3/lib/python3.5/site-packages/scipy/optimize/minpack.py:785: OptimizeWarning: Covariance of the parameters could not be estimated\n",
      "  category=OptimizeWarning)\n"
     ]
    },
    {
     "name": "stdout",
     "output_type": "stream",
     "text": [
      "--- Selected function (k): ---\n",
      "log(M),log(R),log(z)\n",
      "--- Selected function (c): ---\n",
      "log(M),log(R),log(z)\n"
     ]
    },
    {
     "name": "stderr",
     "output_type": "stream",
     "text": [
      "/Users/coleman/Desktop/zooniverse/Debiasing/fit.py:103: RuntimeWarning: divide by zero encountered in log10\n",
      "  term = constant*np.log10(var)\n",
      "/Users/coleman/Desktop/zooniverse/Debiasing/fit.py:245: RuntimeWarning: invalid value encountered in less_equal\n",
      "  p[p <= f.min_] = f.min_\n",
      "/Users/coleman/Desktop/zooniverse/Debiasing/fit.py:246: RuntimeWarning: invalid value encountered in greater_equal\n",
      "  p[p >= f.max_] = f.max_\n",
      "/Users/coleman/Desktop/zooniverse/Debiasing/dictionaries.py:31: RuntimeWarning: invalid value encountered in greater\n",
      "  ok = k > 0\n"
     ]
    },
    {
     "name": "stdout",
     "output_type": "stream",
     "text": [
      "fit method preferred\n",
      "---------\n",
      "chi2 (bin) = 0.25\n",
      "chi2 (fit) = 0.02\n",
      "---------\n",
      "---------------------------------------------\n",
      "Q: t07_rounded\n",
      "A: a16_completely_round\n",
      "---------------------------------------------\n"
     ]
    },
    {
     "name": "stderr",
     "output_type": "stream",
     "text": [
      "/Users/coleman/Desktop/zooniverse/Debiasing/sample.py:14: RuntimeWarning: divide by zero encountered in log10\n",
      "  full_data['logR50'] = np.log10(full_data[params.R50_column])\n"
     ]
    },
    {
     "name": "stdout",
     "output_type": "stream",
     "text": [
      "213526/297590 galaxies with p>0.5 and N>=5.\n",
      "Bin-accretion...\n",
      "56  initial bins.\n",
      "Reassign bad bins...\n",
      "26  good bins.\n",
      "Modified Lloyd algorithm...\n",
      "24  iterations.\n",
      "Unbinned pixels:  0  /  7728\n",
      "Fractional S/N scatter (%): 16.3724290057\n",
      "------------------\n",
      "chisq (log) = 1095.1\n",
      "chisq (exp) = 238.6\n",
      "------------------\n",
      "=> exp function preferred\n"
     ]
    },
    {
     "name": "stderr",
     "output_type": "stream",
     "text": [
      "/Users/coleman/Desktop/zooniverse/Debiasing/fit.py:103: RuntimeWarning: invalid value encountered in log10\n",
      "  term = constant*np.log10(var)\n",
      "/Users/coleman/anaconda/envs/python3/lib/python3.5/site-packages/scipy/optimize/minpack.py:785: OptimizeWarning: Covariance of the parameters could not be estimated\n",
      "  category=OptimizeWarning)\n"
     ]
    },
    {
     "name": "stdout",
     "output_type": "stream",
     "text": [
      "--- Selected function (k): ---\n",
      "log(M),log(R),log(z)\n",
      "--- Selected function (c): ---\n",
      "log(M),log(R),log(z)\n"
     ]
    },
    {
     "name": "stderr",
     "output_type": "stream",
     "text": [
      "/Users/coleman/Desktop/zooniverse/Debiasing/fit.py:103: RuntimeWarning: divide by zero encountered in log10\n",
      "  term = constant*np.log10(var)\n",
      "/Users/coleman/Desktop/zooniverse/Debiasing/fit.py:245: RuntimeWarning: invalid value encountered in less_equal\n",
      "  p[p <= f.min_] = f.min_\n",
      "/Users/coleman/Desktop/zooniverse/Debiasing/fit.py:246: RuntimeWarning: invalid value encountered in greater_equal\n",
      "  p[p >= f.max_] = f.max_\n",
      "/Users/coleman/Desktop/zooniverse/Debiasing/dictionaries.py:31: RuntimeWarning: invalid value encountered in greater\n",
      "  ok = k > 0\n"
     ]
    },
    {
     "name": "stdout",
     "output_type": "stream",
     "text": [
      "bin method preferred\n",
      "---------\n",
      "chi2 (bin) = 0.01\n",
      "chi2 (fit) = 0.14\n",
      "---------\n",
      "---------------------------------------------\n",
      "Q: t07_rounded\n",
      "A: a17_in_between\n",
      "---------------------------------------------\n"
     ]
    },
    {
     "name": "stderr",
     "output_type": "stream",
     "text": [
      "/Users/coleman/Desktop/zooniverse/Debiasing/sample.py:14: RuntimeWarning: divide by zero encountered in log10\n",
      "  full_data['logR50'] = np.log10(full_data[params.R50_column])\n"
     ]
    },
    {
     "name": "stdout",
     "output_type": "stream",
     "text": [
      "213526/297590 galaxies with p>0.5 and N>=5.\n",
      "Bin-accretion...\n",
      "56  initial bins.\n",
      "Reassign bad bins...\n",
      "26  good bins.\n",
      "Modified Lloyd algorithm...\n",
      "24  iterations.\n",
      "Unbinned pixels:  0  /  7728\n",
      "Fractional S/N scatter (%): 16.3724290057\n",
      "------------------\n",
      "chisq (log) = 1344.7\n",
      "chisq (exp) = 460.0\n",
      "------------------\n",
      "=> exp function preferred\n"
     ]
    },
    {
     "name": "stderr",
     "output_type": "stream",
     "text": [
      "/Users/coleman/Desktop/zooniverse/Debiasing/fit.py:103: RuntimeWarning: invalid value encountered in log10\n",
      "  term = constant*np.log10(var)\n",
      "/Users/coleman/anaconda/envs/python3/lib/python3.5/site-packages/scipy/optimize/minpack.py:785: OptimizeWarning: Covariance of the parameters could not be estimated\n",
      "  category=OptimizeWarning)\n"
     ]
    },
    {
     "name": "stdout",
     "output_type": "stream",
     "text": [
      "--- Selected function (k): ---\n",
      "log(M),log(R),log(z)\n",
      "--- Selected function (c): ---\n",
      "log(M),log(R),log(z)\n"
     ]
    },
    {
     "name": "stderr",
     "output_type": "stream",
     "text": [
      "/Users/coleman/Desktop/zooniverse/Debiasing/fit.py:103: RuntimeWarning: divide by zero encountered in log10\n",
      "  term = constant*np.log10(var)\n",
      "/Users/coleman/Desktop/zooniverse/Debiasing/fit.py:245: RuntimeWarning: invalid value encountered in less_equal\n",
      "  p[p <= f.min_] = f.min_\n",
      "/Users/coleman/Desktop/zooniverse/Debiasing/fit.py:246: RuntimeWarning: invalid value encountered in greater_equal\n",
      "  p[p >= f.max_] = f.max_\n",
      "/Users/coleman/Desktop/zooniverse/Debiasing/dictionaries.py:31: RuntimeWarning: invalid value encountered in greater\n",
      "  ok = k > 0\n"
     ]
    },
    {
     "name": "stdout",
     "output_type": "stream",
     "text": [
      "bin method preferred\n",
      "---------\n",
      "chi2 (bin) = 0.08\n",
      "chi2 (fit) = 0.13\n",
      "---------\n",
      "---------------------------------------------\n",
      "Q: t07_rounded\n",
      "A: a18_cigar_shaped\n",
      "---------------------------------------------\n"
     ]
    },
    {
     "name": "stderr",
     "output_type": "stream",
     "text": [
      "/Users/coleman/Desktop/zooniverse/Debiasing/sample.py:14: RuntimeWarning: divide by zero encountered in log10\n",
      "  full_data['logR50'] = np.log10(full_data[params.R50_column])\n"
     ]
    },
    {
     "name": "stdout",
     "output_type": "stream",
     "text": [
      "213526/297590 galaxies with p>0.5 and N>=5.\n",
      "Bin-accretion...\n",
      "56  initial bins.\n",
      "Reassign bad bins...\n",
      "26  good bins.\n",
      "Modified Lloyd algorithm...\n",
      "24  iterations.\n",
      "Unbinned pixels:  0  /  7728\n",
      "Fractional S/N scatter (%): 16.3724290057\n",
      "------------------\n",
      "chisq (log) = 629.7\n",
      "chisq (exp) = 45.2\n",
      "------------------\n",
      "=> exp function preferred\n",
      "--- Selected function (k): ---\n",
      "log(M),log(R),log(z)\n"
     ]
    },
    {
     "name": "stderr",
     "output_type": "stream",
     "text": [
      "/Users/coleman/Desktop/zooniverse/Debiasing/fit.py:103: RuntimeWarning: invalid value encountered in log10\n",
      "  term = constant*np.log10(var)\n",
      "/Users/coleman/anaconda/envs/python3/lib/python3.5/site-packages/scipy/optimize/minpack.py:785: OptimizeWarning: Covariance of the parameters could not be estimated\n",
      "  category=OptimizeWarning)\n"
     ]
    },
    {
     "name": "stdout",
     "output_type": "stream",
     "text": [
      "--- Selected function (c): ---\n",
      "log(M),log(R),log(z)\n"
     ]
    },
    {
     "name": "stderr",
     "output_type": "stream",
     "text": [
      "/Users/coleman/Desktop/zooniverse/Debiasing/fit.py:103: RuntimeWarning: divide by zero encountered in log10\n",
      "  term = constant*np.log10(var)\n",
      "/Users/coleman/Desktop/zooniverse/Debiasing/fit.py:245: RuntimeWarning: invalid value encountered in less_equal\n",
      "  p[p <= f.min_] = f.min_\n",
      "/Users/coleman/Desktop/zooniverse/Debiasing/fit.py:246: RuntimeWarning: invalid value encountered in greater_equal\n",
      "  p[p >= f.max_] = f.max_\n",
      "/Users/coleman/Desktop/zooniverse/Debiasing/dictionaries.py:31: RuntimeWarning: invalid value encountered in greater\n",
      "  ok = k > 0\n"
     ]
    },
    {
     "name": "stdout",
     "output_type": "stream",
     "text": [
      "bin method preferred\n",
      "---------\n",
      "chi2 (bin) = 0.03\n",
      "chi2 (fit) = 0.14\n",
      "---------\n",
      "---------------------------------------------\n",
      "Q: t09_bulge_shape\n",
      "A: a25_rounded\n",
      "---------------------------------------------\n",
      "3977/297590 galaxies with p>0.5 and N>=5.\n",
      "Bin-accretion...\n",
      "44  initial bins.\n",
      "Reassign bad bins...\n",
      "28  good bins.\n",
      "Modified Lloyd algorithm...\n"
     ]
    },
    {
     "name": "stderr",
     "output_type": "stream",
     "text": [
      "/Users/coleman/Desktop/zooniverse/Debiasing/sample.py:14: RuntimeWarning: divide by zero encountered in log10\n",
      "  full_data['logR50'] = np.log10(full_data[params.R50_column])\n"
     ]
    },
    {
     "name": "stdout",
     "output_type": "stream",
     "text": [
      "25  iterations.\n",
      "Unbinned pixels:  0  /  382\n",
      "Fractional S/N scatter (%): 25.198253141\n",
      "------------------\n",
      "chisq (log) = 36.6\n",
      "chisq (exp) = 23.3\n",
      "------------------\n",
      "=> exp function preferred\n",
      "--- Selected function (k): ---\n",
      "linear(M),linear(R),linear(z)\n",
      "--- Selected function (c): ---\n",
      "linear(M),linear(R),linear(z)\n",
      "fit method preferred\n",
      "---------\n",
      "chi2 (bin) = 0.06\n",
      "chi2 (fit) = 0.02\n",
      "---------\n",
      "---------------------------------------------\n",
      "Q: t09_bulge_shape\n",
      "A: a26_boxy\n",
      "---------------------------------------------\n",
      "3977/297590 galaxies with p>0.5 and N>=5.\n",
      "Bin-accretion...\n",
      "44"
     ]
    },
    {
     "name": "stderr",
     "output_type": "stream",
     "text": [
      "/Users/coleman/Desktop/zooniverse/Debiasing/sample.py:14: RuntimeWarning: divide by zero encountered in log10\n",
      "  full_data['logR50'] = np.log10(full_data[params.R50_column])\n"
     ]
    },
    {
     "name": "stdout",
     "output_type": "stream",
     "text": [
      "  initial bins.\n",
      "Reassign bad bins...\n",
      "28  good bins.\n",
      "Modified Lloyd algorithm...\n",
      "25  iterations.\n",
      "Unbinned pixels:  0  /  382\n",
      "Fractional S/N scatter (%): 25.198253141\n",
      "------------------\n",
      "chisq (log) = 26.3\n",
      "chisq (exp) = 20.2\n",
      "------------------\n",
      "=> exp function preferred\n",
      "--- Selected function (k): ---\n",
      "exp(M),exp(R),exp(z)\n",
      "--- Selected function (c): ---\n",
      "linear(M),linear(R),linear(z)\n",
      "fit method preferred\n",
      "---------\n",
      "chi2 (bin) = 0.63\n",
      "chi2 (fit) = 0.01\n",
      "---------\n",
      "---------------------------------------------\n",
      "Q: t09_bulge_shape\n",
      "A: a27_no_bulge\n",
      "---------------------------------------------\n",
      "3977/297590 galaxies with p>0.5 and N>=5.\n",
      "Bin-accretion...\n"
     ]
    },
    {
     "name": "stderr",
     "output_type": "stream",
     "text": [
      "/Users/coleman/Desktop/zooniverse/Debiasing/sample.py:14: RuntimeWarning: divide by zero encountered in log10\n",
      "  full_data['logR50'] = np.log10(full_data[params.R50_column])\n"
     ]
    },
    {
     "name": "stdout",
     "output_type": "stream",
     "text": [
      "44  initial bins.\n",
      "Reassign bad bins...\n",
      "28  good bins.\n",
      "Modified Lloyd algorithm...\n",
      "25  iterations.\n",
      "Unbinned pixels:  0  /  382\n",
      "Fractional S/N scatter (%): 25.198253141\n",
      "------------------\n",
      "chisq (log) = 31.3\n",
      "chisq (exp) = 25.8\n",
      "------------------\n",
      "=> exp function preferred\n",
      "--- Selected function (k): ---\n",
      "linear(M),linear(R),linear(z)\n",
      "--- Selected function (c): ---\n",
      "linear(M),linear(R),linear(z)\n",
      "fit method preferred\n",
      "---------\n",
      "chi2 (bin) = 0.71\n",
      "chi2 (fit) = 0.05\n",
      "---------\n",
      "---------------------------------------------\n",
      "Q: t10_arms_winding\n",
      "A: a28_tight\n",
      "---------------------------------------------\n"
     ]
    },
    {
     "name": "stderr",
     "output_type": "stream",
     "text": [
      "/Users/coleman/Desktop/zooniverse/Debiasing/sample.py:14: RuntimeWarning: divide by zero encountered in log10\n",
      "  full_data['logR50'] = np.log10(full_data[params.R50_column])\n"
     ]
    },
    {
     "name": "stdout",
     "output_type": "stream",
     "text": [
      "31724/297590 galaxies with p>0.5 and N>=5.\n",
      "Bin-accretion...\n",
      "80  initial bins.\n",
      "Reassign bad bins...\n",
      "29  good bins.\n",
      "Modified Lloyd algorithm...\n",
      "22  iterations.\n",
      "Unbinned pixels:  0  /  1201\n",
      "Fractional S/N scatter (%): 17.8957789784\n",
      "------------------\n",
      "chisq (log) = 103.8\n",
      "chisq (exp) = 75.4\n",
      "------------------\n",
      "=> exp function preferred\n",
      "--- Selected function (k): ---\n",
      "log(M),log(R),log(z)\n"
     ]
    },
    {
     "name": "stderr",
     "output_type": "stream",
     "text": [
      "/Users/coleman/Desktop/zooniverse/Debiasing/fit.py:103: RuntimeWarning: invalid value encountered in log10\n",
      "  term = constant*np.log10(var)\n",
      "/Users/coleman/anaconda/envs/python3/lib/python3.5/site-packages/scipy/optimize/minpack.py:785: OptimizeWarning: Covariance of the parameters could not be estimated\n",
      "  category=OptimizeWarning)\n"
     ]
    },
    {
     "name": "stdout",
     "output_type": "stream",
     "text": [
      "--- Selected function (c): ---\n",
      "log(M),log(R),log(z)\n"
     ]
    },
    {
     "name": "stderr",
     "output_type": "stream",
     "text": [
      "/Users/coleman/Desktop/zooniverse/Debiasing/fit.py:103: RuntimeWarning: divide by zero encountered in log10\n",
      "  term = constant*np.log10(var)\n",
      "/Users/coleman/Desktop/zooniverse/Debiasing/fit.py:245: RuntimeWarning: invalid value encountered in less_equal\n",
      "  p[p <= f.min_] = f.min_\n",
      "/Users/coleman/Desktop/zooniverse/Debiasing/fit.py:246: RuntimeWarning: invalid value encountered in greater_equal\n",
      "  p[p >= f.max_] = f.max_\n",
      "/Users/coleman/Desktop/zooniverse/Debiasing/dictionaries.py:31: RuntimeWarning: invalid value encountered in greater\n",
      "  ok = k > 0\n"
     ]
    },
    {
     "name": "stdout",
     "output_type": "stream",
     "text": [
      "fit method preferred\n",
      "---------\n",
      "chi2 (bin) = 0.15\n",
      "chi2 (fit) = 0.01\n",
      "---------\n",
      "---------------------------------------------\n",
      "Q: t10_arms_winding\n",
      "A: a29_medium\n",
      "---------------------------------------------\n"
     ]
    },
    {
     "name": "stderr",
     "output_type": "stream",
     "text": [
      "/Users/coleman/Desktop/zooniverse/Debiasing/sample.py:14: RuntimeWarning: divide by zero encountered in log10\n",
      "  full_data['logR50'] = np.log10(full_data[params.R50_column])\n"
     ]
    },
    {
     "name": "stdout",
     "output_type": "stream",
     "text": [
      "31724/297590 galaxies with p>0.5 and N>=5.\n",
      "Bin-accretion...\n",
      "80  initial bins.\n",
      "Reassign bad bins...\n",
      "29  good bins.\n",
      "Modified Lloyd algorithm...\n",
      "22  iterations.\n",
      "Unbinned pixels:  0  /  1201\n",
      "Fractional S/N scatter (%): 17.8957789784\n",
      "------------------\n",
      "chisq (log) = 133.6\n",
      "chisq (exp) = 106.2\n",
      "------------------\n",
      "=> exp function preferred\n",
      "--- Selected function (k): ---\n",
      "log(M),log(R),log(z)\n"
     ]
    },
    {
     "name": "stderr",
     "output_type": "stream",
     "text": [
      "/Users/coleman/Desktop/zooniverse/Debiasing/fit.py:103: RuntimeWarning: invalid value encountered in log10\n",
      "  term = constant*np.log10(var)\n",
      "/Users/coleman/anaconda/envs/python3/lib/python3.5/site-packages/scipy/optimize/minpack.py:785: OptimizeWarning: Covariance of the parameters could not be estimated\n",
      "  category=OptimizeWarning)\n"
     ]
    },
    {
     "name": "stdout",
     "output_type": "stream",
     "text": [
      "--- Selected function (c): ---\n",
      "log(M),log(R),log(z)\n"
     ]
    },
    {
     "name": "stderr",
     "output_type": "stream",
     "text": [
      "/Users/coleman/Desktop/zooniverse/Debiasing/fit.py:103: RuntimeWarning: divide by zero encountered in log10\n",
      "  term = constant*np.log10(var)\n",
      "/Users/coleman/Desktop/zooniverse/Debiasing/fit.py:245: RuntimeWarning: invalid value encountered in less_equal\n",
      "  p[p <= f.min_] = f.min_\n",
      "/Users/coleman/Desktop/zooniverse/Debiasing/fit.py:246: RuntimeWarning: invalid value encountered in greater_equal\n",
      "  p[p >= f.max_] = f.max_\n",
      "/Users/coleman/Desktop/zooniverse/Debiasing/dictionaries.py:31: RuntimeWarning: invalid value encountered in greater\n",
      "  ok = k > 0\n"
     ]
    },
    {
     "name": "stdout",
     "output_type": "stream",
     "text": [
      "fit method preferred\n",
      "---------\n",
      "chi2 (bin) = 0.17\n",
      "chi2 (fit) = 0.02\n",
      "---------\n",
      "---------------------------------------------\n",
      "Q: t10_arms_winding\n",
      "A: a30_loose\n",
      "---------------------------------------------\n"
     ]
    },
    {
     "name": "stderr",
     "output_type": "stream",
     "text": [
      "/Users/coleman/Desktop/zooniverse/Debiasing/sample.py:14: RuntimeWarning: divide by zero encountered in log10\n",
      "  full_data['logR50'] = np.log10(full_data[params.R50_column])\n"
     ]
    },
    {
     "name": "stdout",
     "output_type": "stream",
     "text": [
      "31724/297590 galaxies with p>0.5 and N>=5.\n",
      "Bin-accretion...\n",
      "80  initial bins.\n",
      "Reassign bad bins...\n",
      "29  good bins.\n",
      "Modified Lloyd algorithm...\n",
      "22  iterations.\n",
      "Unbinned pixels:  0  /  1201\n",
      "Fractional S/N scatter (%): 17.8957789784\n",
      "------------------\n",
      "chisq (log) = 30.3\n",
      "chisq (exp) = 29.4\n",
      "------------------\n",
      "=> exp function preferred\n",
      "--- Selected function (k): ---\n",
      "log(M),log(R),log(z)\n"
     ]
    },
    {
     "name": "stderr",
     "output_type": "stream",
     "text": [
      "/Users/coleman/Desktop/zooniverse/Debiasing/fit.py:103: RuntimeWarning: invalid value encountered in log10\n",
      "  term = constant*np.log10(var)\n",
      "/Users/coleman/anaconda/envs/python3/lib/python3.5/site-packages/scipy/optimize/minpack.py:785: OptimizeWarning: Covariance of the parameters could not be estimated\n",
      "  category=OptimizeWarning)\n"
     ]
    },
    {
     "name": "stdout",
     "output_type": "stream",
     "text": [
      "--- Selected function (c): ---\n",
      "log(M),log(R),log(z)\n"
     ]
    },
    {
     "name": "stderr",
     "output_type": "stream",
     "text": [
      "/Users/coleman/Desktop/zooniverse/Debiasing/fit.py:103: RuntimeWarning: divide by zero encountered in log10\n",
      "  term = constant*np.log10(var)\n",
      "/Users/coleman/Desktop/zooniverse/Debiasing/fit.py:245: RuntimeWarning: invalid value encountered in less_equal\n",
      "  p[p <= f.min_] = f.min_\n",
      "/Users/coleman/Desktop/zooniverse/Debiasing/fit.py:246: RuntimeWarning: invalid value encountered in greater_equal\n",
      "  p[p >= f.max_] = f.max_\n",
      "/Users/coleman/Desktop/zooniverse/Debiasing/dictionaries.py:31: RuntimeWarning: invalid value encountered in greater\n",
      "  ok = k > 0\n"
     ]
    },
    {
     "name": "stdout",
     "output_type": "stream",
     "text": [
      "fit method preferred\n",
      "---------\n",
      "chi2 (bin) = 0.24\n",
      "chi2 (fit) = 0.08\n",
      "---------\n",
      "---------------------------------------------\n",
      "Q: t11_arms_number\n",
      "A: a31_1\n",
      "---------------------------------------------\n"
     ]
    },
    {
     "name": "stderr",
     "output_type": "stream",
     "text": [
      "/Users/coleman/Desktop/zooniverse/Debiasing/sample.py:14: RuntimeWarning: divide by zero encountered in log10\n",
      "  full_data['logR50'] = np.log10(full_data[params.R50_column])\n"
     ]
    },
    {
     "name": "stdout",
     "output_type": "stream",
     "text": [
      "31724/297590 galaxies with p>0.5 and N>=5.\n",
      "Bin-accretion...\n",
      "80  initial bins.\n",
      "Reassign bad bins...\n",
      "29  good bins.\n",
      "Modified Lloyd algorithm...\n",
      "22  iterations.\n",
      "Unbinned pixels:  0  /  1201\n",
      "Fractional S/N scatter (%): 17.8957789784\n",
      "------------------\n",
      "chisq (log) = 3.5\n",
      "chisq (exp) = 2.6\n",
      "------------------\n",
      "=> exp function preferred\n",
      "--- Selected function (k): ---\n",
      "log(M),log(R),log(z)\n"
     ]
    },
    {
     "name": "stderr",
     "output_type": "stream",
     "text": [
      "/Users/coleman/Desktop/zooniverse/Debiasing/fit.py:103: RuntimeWarning: invalid value encountered in log10\n",
      "  term = constant*np.log10(var)\n",
      "/Users/coleman/anaconda/envs/python3/lib/python3.5/site-packages/scipy/optimize/minpack.py:785: OptimizeWarning: Covariance of the parameters could not be estimated\n",
      "  category=OptimizeWarning)\n"
     ]
    },
    {
     "name": "stdout",
     "output_type": "stream",
     "text": [
      "--- Selected function (c): ---\n",
      "log(M),log(R),log(z)\n"
     ]
    },
    {
     "name": "stderr",
     "output_type": "stream",
     "text": [
      "/Users/coleman/Desktop/zooniverse/Debiasing/fit.py:103: RuntimeWarning: divide by zero encountered in log10\n",
      "  term = constant*np.log10(var)\n",
      "/Users/coleman/Desktop/zooniverse/Debiasing/fit.py:245: RuntimeWarning: invalid value encountered in less_equal\n",
      "  p[p <= f.min_] = f.min_\n",
      "/Users/coleman/Desktop/zooniverse/Debiasing/fit.py:246: RuntimeWarning: invalid value encountered in greater_equal\n",
      "  p[p >= f.max_] = f.max_\n",
      "/Users/coleman/Desktop/zooniverse/Debiasing/dictionaries.py:31: RuntimeWarning: invalid value encountered in greater\n",
      "  ok = k > 0\n"
     ]
    },
    {
     "name": "stdout",
     "output_type": "stream",
     "text": [
      "fit method preferred\n",
      "---------\n",
      "chi2 (bin) = 0.17\n",
      "chi2 (fit) = 0.0\n",
      "---------\n",
      "---------------------------------------------\n",
      "Q: t11_arms_number\n",
      "A: a32_2\n",
      "---------------------------------------------\n"
     ]
    },
    {
     "name": "stderr",
     "output_type": "stream",
     "text": [
      "/Users/coleman/Desktop/zooniverse/Debiasing/sample.py:14: RuntimeWarning: divide by zero encountered in log10\n",
      "  full_data['logR50'] = np.log10(full_data[params.R50_column])\n"
     ]
    },
    {
     "name": "stdout",
     "output_type": "stream",
     "text": [
      "31724/297590 galaxies with p>0.5 and N>=5.\n",
      "Bin-accretion...\n",
      "80  initial bins.\n",
      "Reassign bad bins...\n",
      "29  good bins.\n",
      "Modified Lloyd algorithm...\n",
      "22  iterations.\n",
      "Unbinned pixels:  0  /  1201\n",
      "Fractional S/N scatter (%): 17.8957789784\n",
      "------------------\n",
      "chisq (log) = 240.5\n",
      "chisq (exp) = 65.0\n",
      "------------------\n",
      "=> exp function preferred\n",
      "--- Selected function (k): ---\n",
      "log(M),log(R),log(z)\n"
     ]
    },
    {
     "name": "stderr",
     "output_type": "stream",
     "text": [
      "/Users/coleman/Desktop/zooniverse/Debiasing/fit.py:103: RuntimeWarning: invalid value encountered in log10\n",
      "  term = constant*np.log10(var)\n",
      "/Users/coleman/anaconda/envs/python3/lib/python3.5/site-packages/scipy/optimize/minpack.py:785: OptimizeWarning: Covariance of the parameters could not be estimated\n",
      "  category=OptimizeWarning)\n"
     ]
    },
    {
     "name": "stdout",
     "output_type": "stream",
     "text": [
      "--- Selected function (c): ---\n",
      "log(M),log(R),log(z)\n"
     ]
    },
    {
     "name": "stderr",
     "output_type": "stream",
     "text": [
      "/Users/coleman/Desktop/zooniverse/Debiasing/fit.py:103: RuntimeWarning: divide by zero encountered in log10\n",
      "  term = constant*np.log10(var)\n",
      "/Users/coleman/Desktop/zooniverse/Debiasing/fit.py:245: RuntimeWarning: invalid value encountered in less_equal\n",
      "  p[p <= f.min_] = f.min_\n",
      "/Users/coleman/Desktop/zooniverse/Debiasing/fit.py:246: RuntimeWarning: invalid value encountered in greater_equal\n",
      "  p[p >= f.max_] = f.max_\n",
      "/Users/coleman/Desktop/zooniverse/Debiasing/dictionaries.py:31: RuntimeWarning: invalid value encountered in greater\n",
      "  ok = k > 0\n"
     ]
    },
    {
     "name": "stdout",
     "output_type": "stream",
     "text": [
      "fit method preferred\n",
      "---------\n",
      "chi2 (bin) = 0.17\n",
      "chi2 (fit) = 0.03\n",
      "---------\n",
      "---------------------------------------------\n",
      "Q: t11_arms_number\n",
      "A: a33_3\n",
      "---------------------------------------------\n"
     ]
    },
    {
     "name": "stderr",
     "output_type": "stream",
     "text": [
      "/Users/coleman/Desktop/zooniverse/Debiasing/sample.py:14: RuntimeWarning: divide by zero encountered in log10\n",
      "  full_data['logR50'] = np.log10(full_data[params.R50_column])\n"
     ]
    },
    {
     "name": "stdout",
     "output_type": "stream",
     "text": [
      "31724/297590 galaxies with p>0.5 and N>=5.\n",
      "Bin-accretion...\n",
      "80  initial bins.\n",
      "Reassign bad bins...\n",
      "29  good bins.\n",
      "Modified Lloyd algorithm...\n",
      "22  iterations.\n",
      "Unbinned pixels:  0  /  1201\n",
      "Fractional S/N scatter (%): 17.8957789784\n",
      "------------------\n",
      "chisq (log) = 23.6\n",
      "chisq (exp) = 14.5\n",
      "------------------\n",
      "=> exp function preferred\n",
      "--- Selected function (k): ---\n",
      "log(M),log(R),log(z)\n"
     ]
    },
    {
     "name": "stderr",
     "output_type": "stream",
     "text": [
      "/Users/coleman/Desktop/zooniverse/Debiasing/fit.py:103: RuntimeWarning: invalid value encountered in log10\n",
      "  term = constant*np.log10(var)\n",
      "/Users/coleman/anaconda/envs/python3/lib/python3.5/site-packages/scipy/optimize/minpack.py:785: OptimizeWarning: Covariance of the parameters could not be estimated\n",
      "  category=OptimizeWarning)\n"
     ]
    },
    {
     "name": "stdout",
     "output_type": "stream",
     "text": [
      "--- Selected function (c): ---\n",
      "log(M),log(R),log(z)\n"
     ]
    },
    {
     "name": "stderr",
     "output_type": "stream",
     "text": [
      "/Users/coleman/Desktop/zooniverse/Debiasing/fit.py:103: RuntimeWarning: divide by zero encountered in log10\n",
      "  term = constant*np.log10(var)\n",
      "/Users/coleman/Desktop/zooniverse/Debiasing/fit.py:245: RuntimeWarning: invalid value encountered in less_equal\n",
      "  p[p <= f.min_] = f.min_\n",
      "/Users/coleman/Desktop/zooniverse/Debiasing/fit.py:246: RuntimeWarning: invalid value encountered in greater_equal\n",
      "  p[p >= f.max_] = f.max_\n",
      "/Users/coleman/Desktop/zooniverse/Debiasing/dictionaries.py:31: RuntimeWarning: invalid value encountered in greater\n",
      "  ok = k > 0\n"
     ]
    },
    {
     "name": "stdout",
     "output_type": "stream",
     "text": [
      "fit method preferred\n",
      "---------\n",
      "chi2 (bin) = 0.08\n",
      "chi2 (fit) = 0.03\n",
      "---------\n",
      "---------------------------------------------\n",
      "Q: t11_arms_number\n",
      "A: a34_4\n",
      "---------------------------------------------\n"
     ]
    },
    {
     "name": "stderr",
     "output_type": "stream",
     "text": [
      "/Users/coleman/Desktop/zooniverse/Debiasing/sample.py:14: RuntimeWarning: divide by zero encountered in log10\n",
      "  full_data['logR50'] = np.log10(full_data[params.R50_column])\n"
     ]
    },
    {
     "name": "stdout",
     "output_type": "stream",
     "text": [
      "31724/297590 galaxies with p>0.5 and N>=5.\n",
      "Bin-accretion...\n",
      "80  initial bins.\n",
      "Reassign bad bins...\n",
      "29  good bins.\n",
      "Modified Lloyd algorithm...\n",
      "22  iterations.\n",
      "Unbinned pixels:  0  /  1201\n",
      "Fractional S/N scatter (%): 17.8957789784\n",
      "------------------\n",
      "chisq (log) = 10.4\n",
      "chisq (exp) = 6.0\n",
      "------------------\n",
      "=> exp function preferred\n",
      "--- Selected function (k): ---\n",
      "log(M),log(R),log(z)\n"
     ]
    },
    {
     "name": "stderr",
     "output_type": "stream",
     "text": [
      "/Users/coleman/Desktop/zooniverse/Debiasing/fit.py:103: RuntimeWarning: invalid value encountered in log10\n",
      "  term = constant*np.log10(var)\n",
      "/Users/coleman/anaconda/envs/python3/lib/python3.5/site-packages/scipy/optimize/minpack.py:785: OptimizeWarning: Covariance of the parameters could not be estimated\n",
      "  category=OptimizeWarning)\n"
     ]
    },
    {
     "name": "stdout",
     "output_type": "stream",
     "text": [
      "--- Selected function (c): ---\n",
      "log(M),log(R),log(z)\n"
     ]
    },
    {
     "name": "stderr",
     "output_type": "stream",
     "text": [
      "/Users/coleman/Desktop/zooniverse/Debiasing/fit.py:103: RuntimeWarning: divide by zero encountered in log10\n",
      "  term = constant*np.log10(var)\n",
      "/Users/coleman/Desktop/zooniverse/Debiasing/fit.py:245: RuntimeWarning: invalid value encountered in less_equal\n",
      "  p[p <= f.min_] = f.min_\n",
      "/Users/coleman/Desktop/zooniverse/Debiasing/fit.py:246: RuntimeWarning: invalid value encountered in greater_equal\n",
      "  p[p >= f.max_] = f.max_\n",
      "/Users/coleman/Desktop/zooniverse/Debiasing/dictionaries.py:31: RuntimeWarning: invalid value encountered in greater\n",
      "  ok = k > 0\n"
     ]
    },
    {
     "name": "stdout",
     "output_type": "stream",
     "text": [
      "fit method preferred\n",
      "---------\n",
      "chi2 (bin) = 0.03\n",
      "chi2 (fit) = 0.0\n",
      "---------\n",
      "---------------------------------------------\n",
      "Q: t11_arms_number\n",
      "A: a36_more_than_4\n",
      "---------------------------------------------\n"
     ]
    },
    {
     "name": "stderr",
     "output_type": "stream",
     "text": [
      "/Users/coleman/Desktop/zooniverse/Debiasing/sample.py:14: RuntimeWarning: divide by zero encountered in log10\n",
      "  full_data['logR50'] = np.log10(full_data[params.R50_column])\n"
     ]
    },
    {
     "name": "stdout",
     "output_type": "stream",
     "text": [
      "31724/297590 galaxies with p>0.5 and N>=5.\n",
      "Bin-accretion...\n",
      "80  initial bins.\n",
      "Reassign bad bins...\n",
      "29  good bins.\n",
      "Modified Lloyd algorithm...\n",
      "22  iterations.\n",
      "Unbinned pixels:  0  /  1201\n",
      "Fractional S/N scatter (%): 17.8957789784\n",
      "------------------\n",
      "chisq (log) = 6.8\n",
      "chisq (exp) = 3.8\n",
      "------------------\n",
      "=> exp function preferred\n",
      "--- Selected function (k): ---\n",
      "log(M),log(R),log(z)\n"
     ]
    },
    {
     "name": "stderr",
     "output_type": "stream",
     "text": [
      "/Users/coleman/Desktop/zooniverse/Debiasing/fit.py:103: RuntimeWarning: invalid value encountered in log10\n",
      "  term = constant*np.log10(var)\n",
      "/Users/coleman/anaconda/envs/python3/lib/python3.5/site-packages/scipy/optimize/minpack.py:785: OptimizeWarning: Covariance of the parameters could not be estimated\n",
      "  category=OptimizeWarning)\n"
     ]
    },
    {
     "name": "stdout",
     "output_type": "stream",
     "text": [
      "--- Selected function (c): ---\n",
      "log(M),log(R),log(z)\n"
     ]
    },
    {
     "name": "stderr",
     "output_type": "stream",
     "text": [
      "/Users/coleman/Desktop/zooniverse/Debiasing/fit.py:103: RuntimeWarning: divide by zero encountered in log10\n",
      "  term = constant*np.log10(var)\n",
      "/Users/coleman/Desktop/zooniverse/Debiasing/fit.py:245: RuntimeWarning: invalid value encountered in less_equal\n",
      "  p[p <= f.min_] = f.min_\n",
      "/Users/coleman/Desktop/zooniverse/Debiasing/fit.py:246: RuntimeWarning: invalid value encountered in greater_equal\n",
      "  p[p >= f.max_] = f.max_\n",
      "/Users/coleman/Desktop/zooniverse/Debiasing/dictionaries.py:31: RuntimeWarning: invalid value encountered in greater\n",
      "  ok = k > 0\n"
     ]
    },
    {
     "name": "stdout",
     "output_type": "stream",
     "text": [
      "fit method preferred\n",
      "---------\n",
      "chi2 (bin) = 0.08\n",
      "chi2 (fit) = 0.0\n",
      "---------\n",
      "---------------------------------------------\n",
      "Q: t11_arms_number\n",
      "A: a37_cant_tell\n",
      "---------------------------------------------\n"
     ]
    },
    {
     "name": "stderr",
     "output_type": "stream",
     "text": [
      "/Users/coleman/Desktop/zooniverse/Debiasing/sample.py:14: RuntimeWarning: divide by zero encountered in log10\n",
      "  full_data['logR50'] = np.log10(full_data[params.R50_column])\n"
     ]
    },
    {
     "name": "stdout",
     "output_type": "stream",
     "text": [
      "31724/297590 galaxies with p>0.5 and N>=5.\n",
      "Bin-accretion...\n",
      "80  initial bins.\n",
      "Reassign bad bins...\n",
      "29  good bins.\n",
      "Modified Lloyd algorithm...\n",
      "22  iterations.\n",
      "Unbinned pixels:  0  /  1201\n",
      "Fractional S/N scatter (%): 17.8957789784\n",
      "------------------\n",
      "chisq (log) = 66.6\n",
      "chisq (exp) = 40.5\n",
      "------------------\n",
      "=> exp function preferred\n",
      "--- Selected function (k): ---\n",
      "log(M),log(R),log(z)\n"
     ]
    },
    {
     "name": "stderr",
     "output_type": "stream",
     "text": [
      "/Users/coleman/Desktop/zooniverse/Debiasing/fit.py:103: RuntimeWarning: invalid value encountered in log10\n",
      "  term = constant*np.log10(var)\n"
     ]
    },
    {
     "name": "stdout",
     "output_type": "stream",
     "text": [
      "--- Selected function (c): ---\n",
      "log(M),log(R),log(z)\n"
     ]
    },
    {
     "name": "stderr",
     "output_type": "stream",
     "text": [
      "/Users/coleman/Desktop/zooniverse/Debiasing/fit.py:103: RuntimeWarning: divide by zero encountered in log10\n",
      "  term = constant*np.log10(var)\n",
      "/Users/coleman/Desktop/zooniverse/Debiasing/fit.py:245: RuntimeWarning: invalid value encountered in less_equal\n",
      "  p[p <= f.min_] = f.min_\n",
      "/Users/coleman/Desktop/zooniverse/Debiasing/fit.py:246: RuntimeWarning: invalid value encountered in greater_equal\n",
      "  p[p >= f.max_] = f.max_\n",
      "/Users/coleman/Desktop/zooniverse/Debiasing/dictionaries.py:31: RuntimeWarning: invalid value encountered in greater\n",
      "  ok = k > 0\n"
     ]
    },
    {
     "name": "stdout",
     "output_type": "stream",
     "text": [
      "fit method preferred\n",
      "---------\n",
      "chi2 (bin) = 0.15\n",
      "chi2 (fit) = 0.01\n",
      "---------\n"
     ]
    },
    {
     "name": "stderr",
     "output_type": "stream",
     "text": [
      "WARNING: AstropyDeprecationWarning: /Volumes/SD_Extra/galaxy_zoo_nsa_matching/debias/nsa_debiased.csv already exists. Automatically overwriting ASCII files is deprecated. Use the argument 'overwrite=True' in the future. [astropy.io.ascii.ui]\n"
     ]
    },
    {
     "name": "stdout",
     "output_type": "stream",
     "text": [
      "time to run: 2.027743177811305 hours\n"
     ]
    }
   ],
   "source": [
    "t_start = time.time()\n",
    "for q in dictionaries.questions.keys():\n",
    "    answers = dictionaries.questions[q]['answers']\n",
    "    for a in answers:\n",
    "        print('---------------------------------------------')\n",
    "        print('Q: {}'.format(q))\n",
    "        print('A: {}'.format(a))\n",
    "        print('---------------------------------------------')\n",
    "        data = debias.debias(data, params=params, dictionaries=dictionaries ,question=q, answer=a, verbose=True)\n",
    "\n",
    "data.write(os.path.join(output_directory, 'nsa_debiased.csv'), overwrite=True)\n",
    "t_end = time.time()\n",
    "print('time to run: {0} hours'.format((t_end - t_start) / 3600 ))"
   ]
  },
  {
   "cell_type": "code",
   "execution_count": null,
   "metadata": {
    "collapsed": true
   },
   "outputs": [],
   "source": []
  }
 ],
 "metadata": {
  "kernelspec": {
   "display_name": "Python 3",
   "language": "python",
   "name": "python3"
  },
  "language_info": {
   "codemirror_mode": {
    "name": "ipython",
    "version": 3
   },
   "file_extension": ".py",
   "mimetype": "text/x-python",
   "name": "python",
   "nbconvert_exporter": "python",
   "pygments_lexer": "ipython3",
   "version": "3.5.2"
  }
 },
 "nbformat": 4,
 "nbformat_minor": 1
}
