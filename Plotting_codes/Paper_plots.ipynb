{
 "cells": [
  {
   "cell_type": "code",
   "execution_count": 1,
   "metadata": {
    "collapsed": true
   },
   "outputs": [],
   "source": [
    "from astropy.io import fits\n",
    "from astropy.table import Table\n",
    "import matplotlib.pyplot as plt\n",
    "import numpy as np\n",
    "import math\n",
    "import random\n",
    "import pickle\n",
    "import os\n",
    "\n",
    "%matplotlib inline\n",
    "import matplotlib as mpl\n",
    "from matplotlib import pyplot as plt\n",
    "# better-looking plots\n",
    "plt.rcParams['font.family'] = 'serif'\n",
    "plt.rcParams['figure.figsize'] = (10.0, 8)\n",
    "plt.rcParams['font.size'] = 18\n",
    "mpl.ticker.AutoLocator.default_params['nbins'] = 5\n",
    "mpl.ticker.AutoLocator.default_params['prune'] = 'both'\n",
    "\n",
    "mpl.rcParams['ps.useafm'] = True\n",
    "mpl.rcParams['pdf.use14corefonts'] = True\n",
    "mpl.rcParams['text.usetex'] = True"
   ]
  },
  {
   "cell_type": "code",
   "execution_count": 2,
   "metadata": {
    "collapsed": true
   },
   "outputs": [],
   "source": [
    "os.chdir('../')"
   ]
  },
  {
   "cell_type": "code",
   "execution_count": 3,
   "metadata": {
    "collapsed": true
   },
   "outputs": [],
   "source": [
    "import params\n",
    "import make_dictionaries\n",
    "\n",
    "source_directory = params.source_directory\n",
    "full_sample = 'full_sample_debiased.fits'"
   ]
  },
  {
   "cell_type": "code",
   "execution_count": 4,
   "metadata": {
    "collapsed": false
   },
   "outputs": [
    {
     "name": "stdout",
     "output_type": "stream",
     "text": [
      "Loaded questions...\n",
      "Loaded functions...\n"
     ]
    }
   ],
   "source": [
    "questions = make_dictionaries.questions\n",
    "print('Loaded questions...')\n",
    "function_dictionary = make_dictionaries.function_dictionary\n",
    "print('Loaded functions...')"
   ]
  },
  {
   "cell_type": "code",
   "execution_count": 5,
   "metadata": {
    "collapsed": true
   },
   "outputs": [],
   "source": [
    "colors = ['r','b','g','y']\n",
    "colors_long = ['orange','r','magenta','g','blue','cyan','k']"
   ]
  },
  {
   "cell_type": "code",
   "execution_count": 6,
   "metadata": {
    "collapsed": false
   },
   "outputs": [
    {
     "name": "stdout",
     "output_type": "stream",
     "text": [
      "Loaded galaxy data...\n"
     ]
    }
   ],
   "source": [
    "debiased_data = Table.read('../fits/' + full_sample)\n",
    "print('Loaded galaxy data...')\n",
    "in_volume_limit = debiased_data['in_volume_limit'] == True\n",
    "in_mass_limit = debiased_data['LOGMSTAR_BALDRY06'] > 10.6\n",
    "vl_data = debiased_data[(in_volume_limit)]\n",
    "ml_data = debiased_data[(in_volume_limit) & (in_mass_limit)]"
   ]
  },
  {
   "cell_type": "code",
   "execution_count": 7,
   "metadata": {
    "collapsed": true
   },
   "outputs": [],
   "source": [
    "def reduce_sample(full_data,questions,question,p_cut=0.5,N_cut=5,normalised_values=True):\n",
    "    \n",
    "    # Get the reference sample from the previous data:\n",
    "    \n",
    "    previous_q = questions[question]['pre_questions']\n",
    "    previous_a = questions[question]['pre_answers']\n",
    "    \n",
    "    if normalised_values == True:\n",
    "        suffix = '_debiased_rh_normalised'\n",
    "    else:\n",
    "        suffix = '_debiased_rh'\n",
    "    \n",
    "    if previous_q != None:\n",
    "        \n",
    "        p_col = np.ones(len(full_data))\n",
    "        \n",
    "        for m in range(len(previous_q)):\n",
    "            p_col = p_col*(full_data[previous_q[m] + '_' + previous_a[m] + suffix])\n",
    "        N_col = (full_data[previous_q[-1] + '_' + previous_a[-1] + '_count'])\n",
    "        \n",
    "        select = (p_col > p_cut) & (N_col >= N_cut)\n",
    "        data_reduced = full_data[select]\n",
    "        print('{}/{} galaxies with p>{} and N>={}.'.format(len(data_reduced),\n",
    "                                                          len(full_data),p_cut,N_cut))\n",
    "    \n",
    "    else:\n",
    "        data_reduced = full_data.copy()\n",
    "        select = np.ones(len(full_data)) == 1\n",
    "        print('Primary question, so all {} galaxies used.'.format(len(data_reduced)))\n",
    "    \n",
    "    return data_reduced,select\n",
    "\n",
    "\n",
    "def get_spirals_and_assignments(full_data,question_dictionary,th=None):\n",
    "    \n",
    "    data,select = reduce_sample(full_data,question_dictionary,'t11_arms_number')\n",
    "    \n",
    "    answers = question_dictionary['t11_arms_number']['answers']\n",
    "\n",
    "    remove_ct = data['t04_spiral_a08_spiral_count'] - data['t11_arms_number_a37_cant_tell_count'] >= 5\n",
    "    # remove any gals where most votes are for can't tell\n",
    "    in_volume_limit = data['in_volume_limit'] == 1\n",
    "    \n",
    "    spirals = data[(remove_ct) & (in_volume_limit)]\n",
    "    print('{} galaxies with p>0.5 and N>=5'.format(len(spirals)))\n",
    "    \n",
    "    arm_answers = ['t11_arms_number_' + A + '_debiased_rh' for A in answers[:-1]]\n",
    "    arm_array = np.array([spirals[A] for A in arm_answers]).T\n",
    "    raw_answers = ['t11_arms_number_' + A + '_weighted_fraction' for A in answers[:-1]]\n",
    "    raw_array = np.array([spirals[A] for A in raw_answers]).T\n",
    "    \n",
    "    if th != None:\n",
    "        select = np.max(arm_array,axis=1) > th\n",
    "    else:\n",
    "        select = np.ones(len(spirals)) == 1\n",
    "    \n",
    "    arm_assignments = np.argmax(arm_array,axis=1)\n",
    "    raw_assignments = np.argmax(raw_array,axis=1)\n",
    "    \n",
    "    arm_assignments = arm_assignments[select]\n",
    "    raw_assignmnets = raw_assignments[select]\n",
    "    spirals = spirals[select]\n",
    "    redshifts = spirals['REDSHIFT_1']\n",
    "    \n",
    "    return spirals,arm_assignments"
   ]
  },
  {
   "cell_type": "code",
   "execution_count": 8,
   "metadata": {
    "collapsed": false
   },
   "outputs": [
    {
     "name": "stdout",
     "output_type": "stream",
     "text": [
      "21591/62220 galaxies with p>0.5 and N>=5.\n",
      "17953 galaxies with p>0.5 and N>=5\n",
      "11218/41801 galaxies with p>0.5 and N>=5.\n",
      "9389 galaxies with p>0.5 and N>=5\n"
     ]
    }
   ],
   "source": [
    "vl_spirals,vl_assignments = get_spirals_and_assignments(vl_data,questions)\n",
    "ml_spirals,ml_assignments = get_spirals_and_assignments(ml_data,questions)"
   ]
  },
  {
   "cell_type": "code",
   "execution_count": 9,
   "metadata": {
    "collapsed": false
   },
   "outputs": [],
   "source": [
    "def get_column(data,column_name):\n",
    "    \n",
    "    if len(column_name) == 2:\n",
    "        column = data[column_name[0]] - data[column_name[1]]\n",
    "    else:\n",
    "        column = data[column_name]\n",
    "        \n",
    "    return column"
   ]
  },
  {
   "cell_type": "code",
   "execution_count": 10,
   "metadata": {
    "collapsed": false
   },
   "outputs": [],
   "source": [
    "def histograms(data,assignments,axarr,bins,column_name,\n",
    "               reference_data=None,linestyle='solid',linewidth=3,ref_col='k',\n",
    "               mean_lines=False,ylims=None):\n",
    "    \n",
    "    labels = questions['t11_arms_number']['answerlabels']\n",
    "    \n",
    "    for m,ax in enumerate(axarr):\n",
    "        \n",
    "        if reference_data != None:\n",
    "            ref = get_column(reference_data,column_name)\n",
    "            _ = ax.hist(ref,bins,histtype='stepfilled',alpha=0.3,\n",
    "                        color=ref_col,normed=True)\n",
    "        \n",
    "        if data != None:\n",
    "            data_m = get_column(data[assignments == m],column_name)\n",
    "            _ = ax.hist(data_m,bins,histtype='step',linestyle=linestyle,\n",
    "                        color=colors_long[m],linewidth=linewidth,normed=True)\n",
    "            \n",
    "        if mean_lines == True:\n",
    "            #yl = plt.gca().get_ylim()\n",
    "            ax.vlines(np.mean(data_m),ylims[0],ylims[1],color=colors_long[m],\n",
    "                       linewidth=2,linestyle='dashed')\n",
    "            ax.vlines(np.mean(data_m)-np.std(data_m),ylims[0],ylims[1],color=colors_long[m],\n",
    "                       linewidth=2,linestyle='dashed')\n",
    "            ax.vlines(np.mean(data_m)+np.std(data_m),ylims[0],ylims[1],color=colors_long[m],\n",
    "                       linewidth=2,linestyle='dashed')\n",
    "        \n",
    "        ax.set_ylabel('$f_\\mathrm{normalised}$')\n",
    "        ax.text(0.975,0.9,'m={} ({} galaxies)'.format(labels[m],len(data_m))\n",
    "                ,transform=ax.transAxes,ha='right',va='top')\n",
    "        \n",
    "    return fig,axarr\n",
    "\n",
    "\n",
    "def lines(data,assignments,axarr,column_name,nbins=20):\n",
    "    \n",
    "    labels = questions['t11_arms_number']['answerlabels']\n",
    "    \n",
    "    column = get_column(data,column_name)\n",
    "    z,bins = bin_by_column(column,nbins)\n",
    "\n",
    "    for m,ax in enumerate(axarr):\n",
    "        \n",
    "        column_m = column[assignments == m]\n",
    "        \n",
    "        fracs = get_arm_fraction(assignments,bins,m)\n",
    "        axarr[m].plot(z,fracs['f'],linewidth=2,linestyle='solid',color=colors_long[m])\n",
    "        axarr[m].fill_between(z,fracs['low_f'],fracs['high_f'],color=colors_long[m],alpha=0.5)\n",
    "\n",
    "        ax.set_ylabel('$f_\\mathrm{{m=' + '{}'.format(labels[m]) + '}}$')\n",
    "        \n",
    "    return fig,axarr\n",
    "\n",
    "\n",
    "def print_tables(data,assignments,column_name,nbins=20):\n",
    "    \n",
    "    labels = questions['t11_arms_number']['answerlabels']\n",
    "    \n",
    "    column = get_column(data,column_name)\n",
    "    z,bins = bin_by_column(column,nbins)\n",
    "    \n",
    "    print('{}-------')\n",
    "    for b in np.unique(bins):\n",
    "        column_b = column[bins == b]\n",
    "        print(np.mean(column_b),np.std(column_b))\n",
    "\n",
    "    for m in range(5):\n",
    "        \n",
    "        column_m = column[assignments == m]\n",
    "        \n",
    "        fracs = get_arm_fraction(assignments,bins,m)\n",
    "        means = get_arm_fraction(assignments,np.zeros(len(column)),m)\n",
    "        \n",
    "        print('{}------'.format(labels[m]))\n",
    "        print(fracs)\n",
    "        print(means)\n",
    "        \n",
    "    return None"
   ]
  },
  {
   "cell_type": "code",
   "execution_count": 11,
   "metadata": {
    "collapsed": false
   },
   "outputs": [],
   "source": [
    "from scipy.stats import binned_statistic\n",
    "import scipy.stats.distributions as dist\n",
    "\n",
    "def get_arm_fraction(column,bins,m):\n",
    "    \n",
    "    N_b = len(np.unique(bins))\n",
    "    fractions = np.zeros(N_b)\n",
    "    upper_fracs = np.zeros(N_b)\n",
    "    lower_fracs = np.zeros(N_b)\n",
    "    \n",
    "    for n,b in enumerate(np.unique(bins)):\n",
    "        \n",
    "        bin_col = column[bins == b]\n",
    "        bin_m = np.sum(bin_col == m)\n",
    "        bin_tot = len(bin_col)\n",
    "        \n",
    "        f_low,f_high = get_fractional_errors(bin_m,bin_tot)\n",
    "        fractions[n] = bin_m/bin_tot\n",
    "        lower_fracs[n] = f_low\n",
    "        upper_fracs[n] = f_high\n",
    "    \n",
    "    fractions_table = Table(np.array([lower_fracs,fractions,upper_fracs]).T\n",
    "                            ,names=('low_f','f','high_f'))\n",
    "    \n",
    "    return fractions_table\n",
    "\n",
    "\n",
    "def get_fractional_errors(k,n,c=0.683):\n",
    "    \n",
    "    p_lower = dist.beta.ppf((1-c)/2.,k+1,n-k+1)\n",
    "    p_upper = dist.beta.ppf(1-(1-c)/2.,k+1,n-k+1)\n",
    "    \n",
    "    return p_lower,p_upper\n",
    "\n",
    "\n",
    "def bin_by_column(column, nbins, fixedcount=True):\n",
    "    sorted_indices = np.argsort(column)\n",
    "    if fixedcount:\n",
    "        bin_edges = np.linspace(0, 1, nbins + 1)\n",
    "        bin_edges[-1] += 1\n",
    "        values = np.empty(len(column))\n",
    "        values[sorted_indices] = np.linspace(0, 1, len(column))\n",
    "        bins = np.digitize(values, bins=bin_edges)\n",
    "    else:\n",
    "        bin_edges = np.linspace(np.min(column),np.max(column), nbins + 1)\n",
    "        bin_edges[-1] += 1\n",
    "        values = column\n",
    "        bins = np.digitize(values, bins=bin_edges)\n",
    "    x, b, n = binned_statistic(values, column, bins=bin_edges)\n",
    "    return x, bins"
   ]
  },
  {
   "cell_type": "markdown",
   "metadata": {},
   "source": [
    "# Environment\n",
    "\n",
    "Plot of local environment from Baldry et al."
   ]
  },
  {
   "cell_type": "code",
   "execution_count": 12,
   "metadata": {
    "collapsed": false
   },
   "outputs": [
    {
     "name": "stderr",
     "output_type": "stream",
     "text": [
      "/home/ppxrh/anaconda3/lib/python3.4/site-packages/astropy/table/table.py:1821: FutureWarning: comparison to `None` will result in an elementwise object comparison in the future.\n",
      "  result = self._data == other\n"
     ]
    },
    {
     "data": {
      "image/png": "[encoded data removed]",
      "text/plain": [
       "<matplotlib.figure.Figure at 0x2ab83f2a38d0>"
      ]
     },
     "metadata": {},
     "output_type": "display_data"
    }
   ],
   "source": [
    "fig,axarr = plt.subplots(5,2,figsize=(20,12.5),sharex=True,sharey=False)\n",
    "plt.subplots_adjust(hspace=0,wspace=0.2)\n",
    "\n",
    "axarr1 = axarr[:,0]\n",
    "axarr2 = axarr[:,1]\n",
    "\n",
    "for ax in axarr[-1]:\n",
    "    ax.set_xlabel('$\\log (\\Sigma / \\mathrm{Mpc^{-2}})$')\n",
    "\n",
    "histograms(ml_spirals,ml_assignments,axarr1,np.linspace(-2,2,21),'IVAN_DENSITY',\n",
    "           reference_data=ml_spirals)\n",
    "\n",
    "lines(ml_spirals,ml_assignments,axarr2,'IVAN_DENSITY',nbins=20)\n",
    "\n",
    "axarr = axarr.ravel()\n",
    "for ax in axarr:\n",
    "    ax.set_xlim(-1.5,1.5)\n",
    "\n",
    "for ax in axarr1:\n",
    "    ax.set_ylim(0,1.2)\n",
    "    \n",
    "#axarr1[2].set_ylabel('normalised fraction')\n",
    "#axarr2[2].set_ylabel('fraction')\n",
    "\n",
    "#plt.savefig('Plotting_codes/figures/density_plots.pdf')"
   ]
  },
  {
   "cell_type": "code",
   "execution_count": 13,
   "metadata": {
    "collapsed": false
   },
   "outputs": [
    {
     "name": "stdout",
     "output_type": "stream",
     "text": [
      "{}-------\n",
      "-1.11811 0.121443\n",
      "-0.907241 0.035329\n",
      "-0.795696 0.0280981\n",
      "-0.706606 0.0229945\n",
      "-0.63484 0.0206604\n",
      "-0.565422 0.018956\n",
      "-0.499371 0.0171347\n",
      "-0.435692 0.0183971\n",
      "-0.371775 0.0195864\n",
      "-0.303508 0.0205993\n",
      "-0.229012 0.0217801\n",
      "-0.153765 0.0224652\n",
      "-0.0714079 0.02599\n",
      "0.015626 0.0264592\n",
      "0.122061 0.0333004\n",
      "0.240088 0.0364351\n",
      "0.372675 0.0421287\n",
      "0.53093 0.051948\n",
      "0.744364 0.0743261\n",
      "1.14164 0.212928\n",
      "1------\n",
      "     low_f             f             high_f    \n",
      "--------------- --------------- ---------------\n",
      "0.0369667646534 0.0446808510638 0.0562579754372\n",
      "0.0294521346557 0.0362473347548  0.046985779085\n",
      " 0.048497454805 0.0574468085106 0.0701506188309\n",
      "0.0428021657277 0.0511727078891  0.063359142486\n",
      "0.0466638457445 0.0554371002132 0.0679899084426\n",
      "0.0621313621612 0.0723404255319 0.0861774019228\n",
      "0.0505424081307 0.0597014925373 0.0726038050991\n",
      "0.0427108953094 0.0510638297872 0.0632254928719\n",
      "0.0466638457445 0.0554371002132 0.0679899084426\n",
      "0.0428021657277 0.0511727078891  0.063359142486\n",
      "0.0369667646534 0.0446808510638 0.0562579754372\n",
      "0.0370457321162  0.044776119403 0.0563769395033\n",
      "0.0427108953094 0.0510638297872 0.0632254928719\n",
      "0.0505424081307 0.0597014925373 0.0726038050991\n",
      "   0.0447307811 0.0533049040512 0.0656767482769\n",
      "0.0562680662208 0.0659574468085 0.0793289612108\n",
      "0.0544362165848 0.0639658848614 0.0772024662127\n",
      "0.0465643181943 0.0553191489362 0.0678465235791\n",
      "0.0351377849893 0.0426439232409 0.0540386855495\n",
      "0.0312737285642 0.0382978723404 0.0492394186598\n",
      "     low_f             f             high_f    \n",
      "--------------- --------------- ---------------\n",
      "0.0505076900041 0.0527212695708 0.0551254509054\n",
      "2------\n",
      "    low_f            f            high_f    \n",
      "-------------- -------------- --------------\n",
      "0.604847944091 0.627659574468 0.649388420281\n",
      "0.640620114322 0.663113006397 0.684219461706\n",
      "0.579148172512 0.602127659574 0.624240920388\n",
      "  0.6319966026 0.654584221748 0.675857898649\n",
      "0.591138651764  0.61407249467 0.636036741861\n",
      "0.577009427657            0.6 0.622142392572\n",
      "0.558998177486 0.582089552239 0.604483181719\n",
      "0.568458843635 0.591489361702 0.613743885848\n",
      "0.578270509335 0.601279317697 0.623427270699\n",
      "0.591138651764  0.61407249467 0.636036741861\n",
      "0.641369798047 0.663829787234 0.684900198558\n",
      "0.606172051484 0.628997867804 0.650727224305\n",
      "0.594131828393 0.617021276596 0.638918173004\n",
      "0.642777219146 0.665245202559 0.686308625545\n",
      "0.634151748831  0.65671641791 0.677949021132\n",
      "0.624165982489 0.646808510638 0.668205834645\n",
      "0.640620114322 0.663113006397 0.684219461706\n",
      "0.649983424762 0.672340425532 0.693235661263\n",
      "0.729498610676 0.750533049041 0.769437964588\n",
      "0.727889842398 0.748936170213 0.767871034284\n",
      "    low_f            f            high_f    \n",
      "-------------- -------------- --------------\n",
      "0.638222297989 0.643199488763 0.648115657767\n",
      "3------\n",
      "    low_f            f            high_f    \n",
      "-------------- -------------- --------------\n",
      "0.170560607475 0.187234042553 0.206560393399\n",
      "0.152558305605 0.168443496802 0.187146985497\n",
      "0.186912694987 0.204255319149 0.224106466595\n",
      "0.136297445657 0.151385927505  0.16943772891\n",
      "0.166838775853 0.183368869936 0.202590373772\n",
      "0.160368449914 0.176595744681 0.195566203299\n",
      " 0.18526332204 0.202558635394  0.22238222383\n",
      "0.184865827481 0.202127659574 0.221916063751\n",
      "0.191419579367 0.208955223881 0.228964766602\n",
      "0.191419579367 0.208955223881 0.228964766602\n",
      "0.154264207671 0.170212765957  0.18895863818\n",
      "0.156633712582 0.172707889126 0.191564108979\n",
      "0.174643632002 0.191489361702 0.210951908575\n",
      "0.160712955068  0.17697228145 0.195977397406\n",
      "0.156633712582 0.172707889126 0.191564108979\n",
      "0.156298003544 0.172340425532 0.191162111316\n",
      "0.136297445657 0.151385927505  0.16943772891\n",
      "0.160368449914 0.176595744681 0.195566203299\n",
      "0.110032259808 0.123667377399 0.140501500627\n",
      "0.109796865034 0.123404255319 0.140206103049\n",
      "    low_f            f            high_f    \n",
      "-------------- -------------- --------------\n",
      "0.172404040815 0.176270103312 0.180274117495\n",
      "4------\n",
      "     low_f             f             high_f    \n",
      "--------------- --------------- ---------------\n",
      "0.0465643181943 0.0553191489362 0.0678465235791\n",
      "0.0603025642116 0.0703624733475 0.0840748385859\n",
      "0.0543200612895  0.063829787234 0.0770397242544\n",
      "0.0524874979559 0.0618336886994 0.0749049488745\n",
      "0.0642289088844 0.0746268656716 0.0886409823059\n",
      "0.0680209436188 0.0787234042553 0.0929995705488\n",
      "0.0524874979559 0.0618336886994 0.0749049488745\n",
      "0.0543200612895  0.063829787234 0.0770397242544\n",
      "0.0583438956012 0.0682302771855 0.0817872653642\n",
      "0.0486011257865 0.0575692963753 0.0702988564645\n",
      "0.0621313621612 0.0723404255319 0.0861774019228\n",
      "0.0583438956012 0.0682302771855 0.0817872653642\n",
      "0.0504345844388 0.0595744680851 0.0724507239686\n",
      "0.0351377849893 0.0426439232409 0.0540386855495\n",
      "0.0370457321162  0.044776119403 0.0563769395033\n",
      "0.0582193762267  0.068085106383 0.0816148950359\n",
      "0.0486011257865 0.0575692963753 0.0702988564645\n",
      "0.0407910994666 0.0489361702128 0.0609080678359\n",
      "0.0389593405679  0.046908315565  0.058709538178\n",
      "0.0293893857967  0.036170212766 0.0468865808941\n",
      "     low_f             f            high_f    \n",
      "--------------- --------------- --------------\n",
      "0.0577092555308 0.0600702950261 0.062618804262\n",
      "5+------\n",
      "     low_f             f             high_f    \n",
      "--------------- --------------- ---------------\n",
      "0.0739339665316 0.0851063829787 0.0997983081876\n",
      "0.0524874979559 0.0618336886994 0.0749049488745\n",
      "0.0621313621612 0.0723404255319 0.0861774019228\n",
      "0.0701392538023 0.0810234541578 0.0954693799707\n",
      "0.0622642755493 0.0724946695096 0.0863593707018\n",
      "0.0621313621612 0.0723404255319 0.0861774019228\n",
      "0.0820257529948 0.0938166311301  0.109060393084\n",
      "0.0798680981964 0.0914893617021  0.106575945391\n",
      "0.0563883996643 0.0660980810235 0.0794965212435\n",
      "0.0583438956012 0.0682302771855 0.0817872653642\n",
      "0.0407910994666 0.0489361702128 0.0609080678359\n",
      "0.0740922211227 0.0852878464819  0.100008913224\n",
      " 0.069989471031 0.0808510638298 0.0952682956106\n",
      "0.0466638457445 0.0554371002132 0.0679899084426\n",
      "0.0622642755493 0.0724946695096 0.0863593707018\n",
      "0.0388762839988 0.0468085106383 0.0585856670611\n",
      "0.0544362165848 0.0639658848614 0.0772024662127\n",
      "0.0388762839988 0.0468085106383 0.0585856670611\n",
      "0.0294521346557 0.0362473347548  0.046985779085\n",
      "0.0446353872398 0.0531914893617 0.0655382259179\n",
      "     low_f             f             high_f    \n",
      "--------------- --------------- ---------------\n",
      "0.0652350152232 0.0677388433273 0.0704268730591\n"
     ]
    }
   ],
   "source": [
    "print_tables(ml_spirals,ml_assignments,'IVAN_DENSITY')"
   ]
  },
  {
   "cell_type": "markdown",
   "metadata": {},
   "source": [
    "# Stellar mass \n",
    "\n",
    "Stellar mass distributions from Baldry et al."
   ]
  },
  {
   "cell_type": "code",
   "execution_count": null,
   "metadata": {
    "collapsed": false
   },
   "outputs": [],
   "source": [
    "fig,axarr = plt.subplots(5,2,figsize=(20,12.5),sharex=False,sharey=False)\n",
    "plt.subplots_adjust(hspace=0,wspace=0.2)\n",
    "\n",
    "axarr1 = axarr[:,0]\n",
    "axarr2 = axarr[:,1]\n",
    "\n",
    "for ax in axarr[-1]:\n",
    "    ax.set_xlabel('$\\log(M_*/M_{\\odot})$')\n",
    "\n",
    "histograms(vl_spirals,vl_assignments,axarr1,np.linspace(9.8,11.4,17),'LOGMSTAR_BALDRY06',\n",
    "           reference_data=vl_spirals)\n",
    "\n",
    "lines(ml_spirals,ml_assignments,axarr2,'LOGMSTAR_BALDRY06',nbins=20)\n",
    "\n",
    "axarr = axarr.ravel()\n",
    "for ax in axarr2:\n",
    "    ax.set_xlim(10.55,11.25)\n",
    "for ax in axarr1:\n",
    "    ax.set_xlim(9.8,11.4)\n",
    "    ax.set_ylim(0,1.8)\n",
    "\n",
    "for ax in axarr1:\n",
    "    ax.vlines(10.6,0,1.8,linewidth=4,color='k',linestyle='dotted')\n",
    "    \n",
    "#axarr1[2].set_ylabel('normalised fraction')\n",
    "#axarr2[2].set_ylabel('fraction')\n",
    "\n",
    "plt.savefig('Plotting_codes/figures/mass_plots.pdf')"
   ]
  },
  {
   "cell_type": "code",
   "execution_count": null,
   "metadata": {
    "collapsed": false
   },
   "outputs": [],
   "source": [
    "print_tables(ml_spirals,ml_assignments,'LOGMSTAR_BALDRY06')"
   ]
  },
  {
   "cell_type": "markdown",
   "metadata": {},
   "source": [
    "# Star formation rates\n",
    "\n",
    "These are the sSFR plots. However, I don't think we will use them, as they use small apertures etc., probably raises more questions than answers"
   ]
  },
  {
   "cell_type": "code",
   "execution_count": null,
   "metadata": {
    "collapsed": false
   },
   "outputs": [],
   "source": [
    "fig,axarr = plt.subplots(5,1,figsize=(10,12.5))\n",
    "plt.subplots_adjust(hspace=0,wspace=0)\n",
    "\n",
    "#axarr[-1].set_xlabel('$\\log(M_*/M_{\\odot})$')\n",
    "axarr[-1].set_xlabel('sSFR $(\\log(M_{\\odot}M_*^{-1}yr^{-1}))$')\n",
    "\n",
    "histograms(ml_spirals,ml_assignments,axarr,np.linspace(-12.5,-9.5,31),'ssfr_total_avg',\n",
    "           reference_data=ml_data)\n",
    "\n",
    "plt.savefig('Plotting_codes/figures/sfr_histograms.pdf')"
   ]
  },
  {
   "cell_type": "markdown",
   "metadata": {},
   "source": [
    "# Galaxy colours"
   ]
  },
  {
   "cell_type": "code",
   "execution_count": null,
   "metadata": {
    "collapsed": false
   },
   "outputs": [],
   "source": [
    "fig,axarr = plt.subplots(5,2,figsize=(20,12.5),sharex=False,sharey=False)\n",
    "plt.subplots_adjust(hspace=0,wspace=0.2)\n",
    "\n",
    "axarr1 = axarr[:,0]\n",
    "axarr2 = axarr[:,1]\n",
    "\n",
    "for ax in axarr[-1]:\n",
    "    ax.set_xlabel('$g-r$')\n",
    "\n",
    "histograms(ml_spirals,ml_assignments,axarr1,np.linspace(0.3,0.9,31),['PETROMAG_MG','PETROMAG_MR'],\n",
    "           reference_data=ml_spirals,mean_lines=True,ylims=[0,8])\n",
    "\n",
    "lines(ml_spirals,ml_assignments,axarr2,['PETROMAG_MG','PETROMAG_MR'],nbins=20)\n",
    "\n",
    "for ax in axarr2:\n",
    "    ax.set_xlim(0.45,0.85)\n",
    "for ax in axarr1:\n",
    "    ax.set_xlim(0.35,0.85)\n",
    "    ax.set_ylim(0,8)\n",
    "\n",
    "plt.savefig('Plotting_codes/figures/colour_plots.pdf')"
   ]
  },
  {
   "cell_type": "code",
   "execution_count": null,
   "metadata": {
    "collapsed": false
   },
   "outputs": [],
   "source": [
    "print_tables(ml_spirals,ml_assignments,['PETROMAG_MG','PETROMAG_MR'])"
   ]
  },
  {
   "cell_type": "markdown",
   "metadata": {},
   "source": [
    "# Table\n",
    "\n",
    "Table of data values"
   ]
  },
  {
   "cell_type": "code",
   "execution_count": 14,
   "metadata": {
    "collapsed": false
   },
   "outputs": [],
   "source": [
    "def reduce_sample(full_data,questions,question,p_cut=0.5,N_cut=5,suffix='_weighted_fraction'):\n",
    "    \n",
    "    # Get the reference sample from the previous data:\n",
    "    \n",
    "    previous_q = questions[question]['pre_questions']\n",
    "    previous_a = questions[question]['pre_answers']\n",
    "    \n",
    "    if previous_q != None:\n",
    "        \n",
    "        p_col = np.ones(len(full_data))\n",
    "        \n",
    "        for m in range(len(previous_q)):\n",
    "            p_col = p_col*(full_data[previous_q[m] + '_' + previous_a[m] + suffix])\n",
    "        N_col = (full_data[previous_q[-1] + '_' + previous_a[-1] + '_count'])\n",
    "        \n",
    "        select = (p_col > p_cut) & (N_col >= N_cut)\n",
    "        data_reduced = full_data[select]\n",
    "        print('{}/{} galaxies with p>{} and N>={}.'.format(len(data_reduced),\n",
    "                                                          len(full_data),p_cut,N_cut))\n",
    "    \n",
    "    else:\n",
    "        data_reduced = full_data.copy()\n",
    "        select = np.ones(len(full_data)) == 1\n",
    "        print('Primary question, so all {} galaxies used.'.format(len(data_reduced)))\n",
    "    \n",
    "    return data_reduced,select\n",
    "\n",
    "\n",
    "def get_spirals_and_assignments(full_data,question_dictionary,th=None,suffix='_weighted_fraction'):\n",
    "    \n",
    "    data,select = reduce_sample(full_data,question_dictionary,'t11_arms_number',suffix=suffix)\n",
    "    \n",
    "    answers = question_dictionary['t11_arms_number']['answers']\n",
    "\n",
    "    remove_ct = data['t04_spiral_a08_spiral_count'] - data['t11_arms_number_a37_cant_tell_count'] >= 5\n",
    "    # remove any gals where most votes are for can't tell\n",
    "    in_volume_limit = data['in_volume_limit'] == 1\n",
    "    \n",
    "    spirals = data[(remove_ct) & (in_volume_limit)]\n",
    "    print('{} galaxies with p>0.5 and N>=5'.format(len(spirals)))\n",
    "    \n",
    "    arm_answers = ['t11_arms_number_' + A + suffix for A in answers[:-1]]\n",
    "    arm_array = np.array([spirals[A] for A in arm_answers]).T\n",
    "    \n",
    "    if th != None:\n",
    "        select = np.max(arm_array,axis=1) > th\n",
    "    else:\n",
    "        select = np.ones(len(spirals)) == 1\n",
    "    \n",
    "    arm_assignments = np.argmax(arm_array,axis=1)\n",
    "    \n",
    "    arm_assignments = arm_assignments[select]\n",
    "    spirals = spirals[select]\n",
    "    redshifts = spirals['REDSHIFT_1']\n",
    "    \n",
    "    return spirals,arm_assignments\n",
    "\n",
    "def get_vl_ml(D,Q,suffix):\n",
    "    \n",
    "    vl,vl_a = get_spirals_and_assignments(D,Q,suffix=suffix)\n",
    "    select = vl['LOGMSTAR_BALDRY06'] > 10.6\n",
    "    ml = vl[select]\n",
    "    ml_a = vl_a[select]\n",
    "    \n",
    "    return vl,vl_a,ml,ml_a"
   ]
  },
  {
   "cell_type": "code",
   "execution_count": 15,
   "metadata": {
    "collapsed": false
   },
   "outputs": [
    {
     "name": "stdout",
     "output_type": "stream",
     "text": [
      "28962/228201 galaxies with p>0.5 and N>=5.\n",
      "12554 galaxies with p>0.5 and N>=5\n",
      "41413/228201 galaxies with p>0.5 and N>=5.\n",
      "14297 galaxies with p>0.5 and N>=5\n",
      "58679/228201 galaxies with p>0.5 and N>=5.\n",
      "17953 galaxies with p>0.5 and N>=5\n"
     ]
    }
   ],
   "source": [
    "vl_raw,vl_raw_a,ml_raw,ml_raw_a = get_vl_ml(debiased_data,questions,'_weighted_fraction')\n",
    "vl_w13,vl_w13_a,ml_w13,ml_w13_a = get_vl_ml(debiased_data,questions,'_debiased')\n",
    "vl_h16,vl_h16_a,ml_h16,ml_h16_a = get_vl_ml(debiased_data,questions,'_debiased_rh_normalised')"
   ]
  },
  {
   "cell_type": "code",
   "execution_count": 20,
   "metadata": {
    "collapsed": false
   },
   "outputs": [],
   "source": [
    "from tabulate import tabulate\n",
    "\n",
    "# make lists of properties:\n",
    "index = ['Luminosity-limited']\n",
    "m = ['1','2','3','4','5+']\n",
    "index.extend(m)\n",
    "index.append('Stellar mass-limited')\n",
    "index.extend(m)\n",
    "\n",
    "mass = []\n",
    "color = []\n",
    "density = []\n",
    "\n",
    "def append(list,column,type='float',error=True):\n",
    "    \n",
    "    mean_value = np.mean(column)\n",
    "    std_value = np.std(column)\n",
    "    \n",
    "    if error == False:\n",
    "        list.append('${0:.2f}$'.format(mean_value)) \n",
    "    else:\n",
    "        list.append('${0:.2f}'.format(mean_value) \n",
    "                    + ' ({0:.2f})$'.format(std_value))\n",
    "    \n",
    "    return list\n",
    "\n",
    "\n",
    "def append_sample_sizes(samples=[vl_raw,ml_raw],arms=[vl_raw_a,ml_raw_a]):\n",
    "    \n",
    "    N = []\n",
    "    f = []\n",
    "    \n",
    "    for s,sample in enumerate(samples):\n",
    "        m_vals = arms[s]\n",
    "        N.append('${}$'.format(len(sample)))\n",
    "        f.append('$1.00$')\n",
    "        \n",
    "        for m in range(5):\n",
    "            m_sample = sample[m_vals == m]\n",
    "            N.append('${}$'.format(len(m_sample)))\n",
    "            f.append('${0:.2f}$'.format(len(m_sample)/len(sample)))\n",
    "        \n",
    "    return N,f"
   ]
  },
  {
   "cell_type": "code",
   "execution_count": 21,
   "metadata": {
    "collapsed": false
   },
   "outputs": [],
   "source": [
    "# Append demographics lists: -----\n",
    "arms = [vl_h16_a,ml_h16_a]\n",
    "for s,sample in enumerate([vl_h16,ml_h16]):\n",
    "    \n",
    "    arm_assignments = arms[s]\n",
    "    \n",
    "    mass = append(mass,sample['LOGMSTAR_BALDRY06'])\n",
    "    color = append(color,sample['PETROMAG_MG']-sample['PETROMAG_MR'])\n",
    "    density = append(density,sample['LOGMSTAR_BALDRY06'])\n",
    "    \n",
    "    for m in range(5):\n",
    "        \n",
    "        m_sample = sample[arm_assignments == m]\n",
    "        \n",
    "        mass = append(mass,m_sample['LOGMSTAR_BALDRY06'])\n",
    "        color = append(color,m_sample['PETROMAG_MG']-m_sample['PETROMAG_MR'])\n",
    "        density = append(density,m_sample['LOGMSTAR_BALDRY06'])\n",
    "#----------------------------------\n",
    "\n",
    "N_raw,f_raw = append_sample_sizes([vl_raw,ml_raw],[vl_raw_a,ml_raw_a])\n",
    "N_w13,f_w13 = append_sample_sizes([vl_w13,ml_w13],[vl_w13_a,ml_w13_a])\n",
    "N_h16,f_h16 = append_sample_sizes([vl_h16,ml_h16],[vl_h16_a,ml_h16_a])"
   ]
  },
  {
   "cell_type": "code",
   "execution_count": 22,
   "metadata": {
    "collapsed": false
   },
   "outputs": [],
   "source": [
    "table = np.array([index\n",
    "                  ,N_raw,f_raw\n",
    "                  ,N_w13,f_w13\n",
    "                  ,N_h16,f_h16\n",
    "                  ,mass,color,density]).T\n",
    "headers = [r'm',\n",
    "           r'N_{raw}',r'f_{raw}',\n",
    "           r'N_{W13}',r'f_{W13}',\n",
    "           r'N_{debiased}',r'f_{debiased}',\n",
    "           r'Stellar mass (\\log(M/M_{\\odot}))',r'g-r',r'\\Sigma \\textrm{(Mpc^{-2})}']"
   ]
  },
  {
   "cell_type": "code",
   "execution_count": 23,
   "metadata": {
    "collapsed": false
   },
   "outputs": [
    {
     "name": "stdout",
     "output_type": "stream",
     "text": [
      "\\begin{tabular}{llllllllll}\n",
      "\\hline\n",
      " m                    & N\\_\\{raw\\}   & f\\_\\{raw\\}   & N\\_\\{W13\\}   & f\\_\\{W13\\}   & N\\_\\{debiased\\}   & f\\_\\{debiased\\}   & Stellar mass (\\textbackslash{}log(M/M\\_\\{\\textbackslash{}odot\\}))   & g-r           & \\textbackslash{}Sigma \\textbackslash{}textrm\\{(Mpc\\^{}\\{-2\\})\\}   \\\\\n",
      "\\hline\n",
      " Luminosity-limited   & \\$12554\\$   & \\$1.00\\$    & \\$14297\\$   & \\$1.00\\$    & \\$17953\\$        & \\$1.00\\$         & \\$10.62 (0.25)\\$                     & \\$0.58 (0.10)\\$ & \\$10.62 (0.25)\\$               \\\\\n",
      " 1                    & \\$563\\$     & \\$0.04\\$    & \\$670\\$     & \\$0.05\\$    & \\$922\\$          & \\$0.05\\$         & \\$10.63 (0.27)\\$                     & \\$0.58 (0.11)\\$ & \\$10.63 (0.27)\\$               \\\\\n",
      " 2                    & \\$9044\\$    & \\$0.72\\$    & \\$10073\\$   & \\$0.70\\$    & \\$11150\\$        & \\$0.62\\$         & \\$10.63 (0.24)\\$                     & \\$0.60 (0.10)\\$ & \\$10.63 (0.24)\\$               \\\\\n",
      " 3                    & \\$1778\\$    & \\$0.14\\$    & \\$2158\\$    & \\$0.15\\$    & \\$3555\\$         & \\$0.20\\$         & \\$10.59 (0.26)\\$                     & \\$0.53 (0.10)\\$ & \\$10.59 (0.26)\\$               \\\\\n",
      " 4                    & \\$615\\$     & \\$0.05\\$    & \\$751\\$     & \\$0.05\\$    & \\$1162\\$         & \\$0.06\\$         & \\$10.60 (0.26)\\$                     & \\$0.53 (0.09)\\$ & \\$10.60 (0.26)\\$               \\\\\n",
      " 5+                   & \\$554\\$     & \\$0.04\\$    & \\$645\\$     & \\$0.05\\$    & \\$1164\\$         & \\$0.06\\$         & \\$10.65 (0.27)\\$                     & \\$0.54 (0.09)\\$ & \\$10.65 (0.27)\\$               \\\\\n",
      " Stellar mass-limited & \\$6683\\$    & \\$1.00\\$    & \\$7226\\$    & \\$1.00\\$    & \\$9389\\$         & \\$1.00\\$         & \\$10.81 (0.16)\\$                     & \\$0.63 (0.08)\\$ & \\$10.81 (0.16)\\$               \\\\\n",
      " 1                    & \\$290\\$     & \\$0.04\\$    & \\$331\\$     & \\$0.05\\$    & \\$495\\$          & \\$0.05\\$         & \\$10.83 (0.16)\\$                     & \\$0.65 (0.09)\\$ & \\$10.83 (0.16)\\$               \\\\\n",
      " 2                    & \\$4852\\$    & \\$0.73\\$    & \\$5191\\$    & \\$0.72\\$    & \\$6039\\$         & \\$0.64\\$         & \\$10.81 (0.15)\\$                     & \\$0.65 (0.07)\\$ & \\$10.81 (0.15)\\$               \\\\\n",
      " 3                    & \\$886\\$     & \\$0.13\\$    & \\$991\\$     & \\$0.14\\$    & \\$1655\\$         & \\$0.18\\$         & \\$10.82 (0.16)\\$                     & \\$0.59 (0.07)\\$ & \\$10.82 (0.16)\\$               \\\\\n",
      " 4                    & \\$335\\$     & \\$0.05\\$    & \\$366\\$     & \\$0.05\\$    & \\$564\\$          & \\$0.06\\$         & \\$10.82 (0.16)\\$                     & \\$0.58 (0.07)\\$ & \\$10.82 (0.16)\\$               \\\\\n",
      " 5+                   & \\$320\\$     & \\$0.05\\$    & \\$347\\$     & \\$0.05\\$    & \\$636\\$          & \\$0.07\\$         & \\$10.85 (0.18)\\$                     & \\$0.58 (0.07)\\$ & \\$10.85 (0.18)\\$               \\\\\n",
      "\\hline\n",
      "\\end{tabular}\n"
     ]
    }
   ],
   "source": [
    "print(tabulate(table,headers,tablefmt='latex'))"
   ]
  },
  {
   "cell_type": "code",
   "execution_count": null,
   "metadata": {
    "collapsed": false
   },
   "outputs": [],
   "source": [
    "vl_3 = vl_spirals[vl_assignments == 2]\n",
    "\n",
    "vl_3.colnames\n",
    "\n",
    "cols = ['dr7objid_1',\n",
    "        't11_arms_number_a33_3_weighted_fraction',\n",
    "        't11_arms_number_a33_3_debiased',\n",
    "        't11_arms_number_a33_3_debiased_rh',\n",
    "        'jpeg_url']\n",
    "\n",
    "vl_3_reduced = [vl_3[c] for c in cols]\n",
    "vl_3_reduced = Table(vl_3_reduced,names=('dr7_id','p3_weighted_fraction','p3_debiased_w13','p3_debiased_rh','jpeg_url'))\n",
    "\n",
    "Table.write(vl_3_reduced,'../fits/3_armed_spirals.fits',overwrite=True)"
   ]
  },
  {
   "cell_type": "markdown",
   "metadata": {},
   "source": [
    "# Mass vs. environment"
   ]
  },
  {
   "cell_type": "code",
   "execution_count": null,
   "metadata": {
    "collapsed": true
   },
   "outputs": [],
   "source": [
    "from scipy.optimize import curve_fit\n",
    "\n",
    "def line_func(x,m,c):\n",
    "    return m*x + c"
   ]
  },
  {
   "cell_type": "code",
   "execution_count": null,
   "metadata": {
    "collapsed": false
   },
   "outputs": [],
   "source": [
    "fig,axarr = plt.subplots(2,3,sharex=True,sharey=True)\n",
    "plt.subplots_adjust(hspace=0,wspace=0)\n",
    "axarr = axarr.ravel()\n",
    "\n",
    "fig.delaxes(axarr[-1])\n",
    "\n",
    "for m in range(5):\n",
    "    \n",
    "    m_data = ml_spirals[ml_assignments == m]\n",
    "    \n",
    "    mass = m_data['LOGMSTAR_BALDRY06']\n",
    "    density = m_data['IVAN_DENSITY']\n",
    "    \n",
    "    axarr[m].scatter(mass,density,color=colors_long[m],alpha=0.2)\n",
    "    \n",
    "    plt.xlim(10.5,11.5)\n",
    "    #plt.xticks(np.linspace(-2,2,5))\n",
    "    \n",
    "    popt,pcov = curve_fit(line_func,mass,density)\n",
    "    \n",
    "    xg = np.linspace(10.5,11.5,100)\n",
    "    axarr[m].plot(xg,line_func(xg,*popt),linewidth=2,color=colors_long[m])\n",
    "    \n",
    "    print(m,popt)"
   ]
  },
  {
   "cell_type": "code",
   "execution_count": null,
   "metadata": {
    "collapsed": true
   },
   "outputs": [],
   "source": [
    "def binomial(n,p):\n",
    "    \n",
    "    n_p = n*p\n",
    "    error_n_p = n*((p*(1-p)))**0.5/(n**0.5)\n",
    "    \n",
    "    return n_p,error_n_p"
   ]
  },
  {
   "cell_type": "code",
   "execution_count": null,
   "metadata": {
    "collapsed": false
   },
   "outputs": [],
   "source": [
    "N=18000\n",
    "\n",
    "for p in [0.07,0.6]:\n",
    "\n",
    "    print(p,binomial(N,p))\n",
    "\n"
   ]
  },
  {
   "cell_type": "code",
   "execution_count": null,
   "metadata": {
    "collapsed": false
   },
   "outputs": [],
   "source": [
    "(1.7*(10**4)/1085)**0.5"
   ]
  },
  {
   "cell_type": "code",
   "execution_count": null,
   "metadata": {
    "collapsed": true
   },
   "outputs": [],
   "source": []
  }
 ],
 "metadata": {
  "kernelspec": {
   "display_name": "Python 3",
   "language": "python",
   "name": "python3"
  },
  "language_info": {
   "codemirror_mode": {
    "name": "ipython",
    "version": 3
   },
   "file_extension": ".py",
   "mimetype": "text/x-python",
   "name": "python",
   "nbconvert_exporter": "python",
   "pygments_lexer": "ipython3",
   "version": "3.4.1"
  }
 },
 "nbformat": 4,
 "nbformat_minor": 0
}
